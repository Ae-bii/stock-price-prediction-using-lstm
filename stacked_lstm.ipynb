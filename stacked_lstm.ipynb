{
 "cells": [
  {
   "cell_type": "code",
   "execution_count": 22,
   "metadata": {},
   "outputs": [],
   "source": [
    "\n",
    "import pandas_datareader as pdr\n",
    "import pandas as pd\n",
    "import math\n",
    "import matplotlib.pyplot as plt\n",
    "import numpy as np\n",
    "from sklearn.preprocessing import MinMaxScaler\n",
    "from sklearn.metrics import mean_squared_error\n",
    "from tensorflow.keras.models import Sequential\n",
    "from tensorflow.keras.layers import Dense\n",
    "from tensorflow.keras.layers import LSTM"
   ]
  },
  {
   "cell_type": "markdown",
   "metadata": {},
   "source": [
    "## Collecting Data"
   ]
  },
  {
   "cell_type": "code",
   "execution_count": 2,
   "metadata": {},
   "outputs": [],
   "source": [
    "# df = pdr.get_data_tiingo('MRO', api_key=key)\n",
    "# df.to_csv('MRO.csv')"
   ]
  },
  {
   "cell_type": "code",
   "execution_count": 3,
   "metadata": {},
   "outputs": [
    {
     "data": {
      "text/html": [
       "<div>\n",
       "<style scoped>\n",
       "    .dataframe tbody tr th:only-of-type {\n",
       "        vertical-align: middle;\n",
       "    }\n",
       "\n",
       "    .dataframe tbody tr th {\n",
       "        vertical-align: top;\n",
       "    }\n",
       "\n",
       "    .dataframe thead th {\n",
       "        text-align: right;\n",
       "    }\n",
       "</style>\n",
       "<table border=\"1\" class=\"dataframe\">\n",
       "  <thead>\n",
       "    <tr style=\"text-align: right;\">\n",
       "      <th></th>\n",
       "      <th>symbol</th>\n",
       "      <th>date</th>\n",
       "      <th>close</th>\n",
       "      <th>high</th>\n",
       "      <th>low</th>\n",
       "      <th>open</th>\n",
       "      <th>volume</th>\n",
       "      <th>adjClose</th>\n",
       "      <th>adjHigh</th>\n",
       "      <th>adjLow</th>\n",
       "      <th>adjOpen</th>\n",
       "      <th>adjVolume</th>\n",
       "      <th>divCash</th>\n",
       "      <th>splitFactor</th>\n",
       "    </tr>\n",
       "  </thead>\n",
       "  <tbody>\n",
       "    <tr>\n",
       "      <th>0</th>\n",
       "      <td>MRO</td>\n",
       "      <td>2017-05-31 00:00:00+00:00</td>\n",
       "      <td>13.02</td>\n",
       "      <td>13.10</td>\n",
       "      <td>12.75</td>\n",
       "      <td>12.92</td>\n",
       "      <td>14540830</td>\n",
       "      <td>12.211546</td>\n",
       "      <td>12.286579</td>\n",
       "      <td>11.958311</td>\n",
       "      <td>12.117756</td>\n",
       "      <td>14540830</td>\n",
       "      <td>0.0</td>\n",
       "      <td>1.0</td>\n",
       "    </tr>\n",
       "    <tr>\n",
       "      <th>1</th>\n",
       "      <td>MRO</td>\n",
       "      <td>2017-06-01 00:00:00+00:00</td>\n",
       "      <td>13.10</td>\n",
       "      <td>13.41</td>\n",
       "      <td>12.95</td>\n",
       "      <td>13.05</td>\n",
       "      <td>11547207</td>\n",
       "      <td>12.286579</td>\n",
       "      <td>12.577330</td>\n",
       "      <td>12.145893</td>\n",
       "      <td>12.239683</td>\n",
       "      <td>11547207</td>\n",
       "      <td>0.0</td>\n",
       "      <td>1.0</td>\n",
       "    </tr>\n",
       "    <tr>\n",
       "      <th>2</th>\n",
       "      <td>MRO</td>\n",
       "      <td>2017-06-02 00:00:00+00:00</td>\n",
       "      <td>12.72</td>\n",
       "      <td>12.99</td>\n",
       "      <td>12.56</td>\n",
       "      <td>12.96</td>\n",
       "      <td>13797001</td>\n",
       "      <td>11.930174</td>\n",
       "      <td>12.183409</td>\n",
       "      <td>11.780109</td>\n",
       "      <td>12.155272</td>\n",
       "      <td>13797001</td>\n",
       "      <td>0.0</td>\n",
       "      <td>1.0</td>\n",
       "    </tr>\n",
       "    <tr>\n",
       "      <th>3</th>\n",
       "      <td>MRO</td>\n",
       "      <td>2017-06-05 00:00:00+00:00</td>\n",
       "      <td>12.78</td>\n",
       "      <td>12.86</td>\n",
       "      <td>12.54</td>\n",
       "      <td>12.61</td>\n",
       "      <td>10988204</td>\n",
       "      <td>11.986449</td>\n",
       "      <td>12.061481</td>\n",
       "      <td>11.761351</td>\n",
       "      <td>11.827004</td>\n",
       "      <td>10988204</td>\n",
       "      <td>0.0</td>\n",
       "      <td>1.0</td>\n",
       "    </tr>\n",
       "    <tr>\n",
       "      <th>4</th>\n",
       "      <td>MRO</td>\n",
       "      <td>2017-06-06 00:00:00+00:00</td>\n",
       "      <td>12.88</td>\n",
       "      <td>12.96</td>\n",
       "      <td>12.64</td>\n",
       "      <td>12.76</td>\n",
       "      <td>10639213</td>\n",
       "      <td>12.080239</td>\n",
       "      <td>12.155272</td>\n",
       "      <td>11.855142</td>\n",
       "      <td>11.967690</td>\n",
       "      <td>10639213</td>\n",
       "      <td>0.0</td>\n",
       "      <td>1.0</td>\n",
       "    </tr>\n",
       "  </tbody>\n",
       "</table>\n",
       "</div>"
      ],
      "text/plain": [
       "  symbol                       date  close   high    low   open    volume  \\\n",
       "0    MRO  2017-05-31 00:00:00+00:00  13.02  13.10  12.75  12.92  14540830   \n",
       "1    MRO  2017-06-01 00:00:00+00:00  13.10  13.41  12.95  13.05  11547207   \n",
       "2    MRO  2017-06-02 00:00:00+00:00  12.72  12.99  12.56  12.96  13797001   \n",
       "3    MRO  2017-06-05 00:00:00+00:00  12.78  12.86  12.54  12.61  10988204   \n",
       "4    MRO  2017-06-06 00:00:00+00:00  12.88  12.96  12.64  12.76  10639213   \n",
       "\n",
       "    adjClose    adjHigh     adjLow    adjOpen  adjVolume  divCash  splitFactor  \n",
       "0  12.211546  12.286579  11.958311  12.117756   14540830      0.0          1.0  \n",
       "1  12.286579  12.577330  12.145893  12.239683   11547207      0.0          1.0  \n",
       "2  11.930174  12.183409  11.780109  12.155272   13797001      0.0          1.0  \n",
       "3  11.986449  12.061481  11.761351  11.827004   10988204      0.0          1.0  \n",
       "4  12.080239  12.155272  11.855142  11.967690   10639213      0.0          1.0  "
      ]
     },
     "execution_count": 3,
     "metadata": {},
     "output_type": "execute_result"
    }
   ],
   "source": [
    "df = pd.read_csv('MRO.csv')\n",
    "df.head()"
   ]
  },
  {
   "cell_type": "code",
   "execution_count": 4,
   "metadata": {},
   "outputs": [
    {
     "data": {
      "text/plain": [
       "(1259,)"
      ]
     },
     "execution_count": 4,
     "metadata": {},
     "output_type": "execute_result"
    }
   ],
   "source": [
    "df1 = df.reset_index()['close']\n",
    "df1.shape"
   ]
  },
  {
   "cell_type": "code",
   "execution_count": 5,
   "metadata": {},
   "outputs": [
    {
     "data": {
      "text/plain": [
       "0    13.02\n",
       "1    13.10\n",
       "2    12.72\n",
       "3    12.78\n",
       "4    12.88\n",
       "Name: close, dtype: float64"
      ]
     },
     "execution_count": 5,
     "metadata": {},
     "output_type": "execute_result"
    }
   ],
   "source": [
    "df1.head()"
   ]
  },
  {
   "cell_type": "code",
   "execution_count": 6,
   "metadata": {},
   "outputs": [
    {
     "data": {
      "text/plain": [
       "[<matplotlib.lines.Line2D at 0x1d6f4b6a200>]"
      ]
     },
     "execution_count": 6,
     "metadata": {},
     "output_type": "execute_result"
    },
    {
     "data": {
      "image/png": "[encoded data removed]",
      "text/plain": [
       "<Figure size 432x288 with 1 Axes>"
      ]
     },
     "metadata": {
      "needs_background": "light"
     },
     "output_type": "display_data"
    }
   ],
   "source": [
    "plt.plot(df1)"
   ]
  },
  {
   "cell_type": "code",
   "execution_count": 7,
   "metadata": {},
   "outputs": [
    {
     "data": {
      "text/plain": [
       "array([[0.35420394],\n",
       "       [0.35706619],\n",
       "       [0.34347048],\n",
       "       ...,\n",
       "       [0.92629696],\n",
       "       [0.95277281],\n",
       "       [1.        ]])"
      ]
     },
     "execution_count": 7,
     "metadata": {},
     "output_type": "execute_result"
    }
   ],
   "source": [
    "scaler = MinMaxScaler(feature_range=(0,1))\n",
    "df1 = scaler.fit_transform(np.array(df1).reshape(-1,1))\n",
    "df1"
   ]
  },
  {
   "cell_type": "markdown",
   "metadata": {},
   "source": [
    "## Splitting Data for Training and Testing"
   ]
  },
  {
   "cell_type": "code",
   "execution_count": 8,
   "metadata": {},
   "outputs": [
    {
     "data": {
      "text/plain": [
       "(818, 441)"
      ]
     },
     "execution_count": 8,
     "metadata": {},
     "output_type": "execute_result"
    }
   ],
   "source": [
    "train_size = int(len(df1)*0.65)\n",
    "test_size = len(df1) - train_size\n",
    "train_data, test_data = df1[0:train_size,:], df1[train_size:len(df1),:1]\n",
    "len(train_data), len(test_data)"
   ]
  },
  {
   "cell_type": "markdown",
   "metadata": {},
   "source": [
    "## Preprocessing"
   ]
  },
  {
   "cell_type": "code",
   "execution_count": 9,
   "metadata": {},
   "outputs": [],
   "source": [
    "def create_data_matrix(dataset, time_step=1):\n",
    "    dataX, dataY = [], []\n",
    "    for i in range(len(dataset) - time_step-1):\n",
    "        a = dataset[i:(i+time_step), 0]\n",
    "        dataX.append(a)\n",
    "        dataY.append(dataset[i + time_step, 0])\n",
    "    return np.array(dataX), np.array(dataY)"
   ]
  },
  {
   "cell_type": "code",
   "execution_count": 10,
   "metadata": {},
   "outputs": [],
   "source": [
    "time_step = 100\n",
    "X_train, y_train = create_data_matrix(train_data, time_step)\n",
    "X_test, y_valid = create_data_matrix(test_data, time_step)"
   ]
  },
  {
   "cell_type": "code",
   "execution_count": 11,
   "metadata": {},
   "outputs": [
    {
     "name": "stdout",
     "output_type": "stream",
     "text": [
      "(717, 100)\n",
      "(717,)\n",
      "(340, 100)\n",
      "(717,)\n"
     ]
    },
    {
     "data": {
      "text/plain": [
       "(None, None)"
      ]
     },
     "execution_count": 11,
     "metadata": {},
     "output_type": "execute_result"
    }
   ],
   "source": [
    "print(X_train.shape), print(y_train.shape)\n",
    "print(X_test.shape), print(y_train.shape)"
   ]
  },
  {
   "cell_type": "code",
   "execution_count": 12,
   "metadata": {},
   "outputs": [],
   "source": [
    "X_train = X_train.reshape(X_train.shape[0], X_train.shape[1], 1)\n",
    "X_test = X_test.reshape(X_test.shape[0], X_test.shape[1], 1)"
   ]
  },
  {
   "cell_type": "markdown",
   "metadata": {},
   "source": [
    "## Implementing Stacked LSTM Model"
   ]
  },
  {
   "cell_type": "code",
   "execution_count": 15,
   "metadata": {},
   "outputs": [],
   "source": [
    "model = Sequential()\n",
    "model.add(LSTM(50, return_sequences=True, input_shape=(100,1)))\n",
    "model.add(LSTM(50, return_sequences=True))\n",
    "model.add(LSTM(50))\n",
    "model.add(Dense(1))\n",
    "model.compile(loss='mean_squared_error', optimizer='adam')"
   ]
  },
  {
   "cell_type": "code",
   "execution_count": 16,
   "metadata": {},
   "outputs": [
    {
     "name": "stdout",
     "output_type": "stream",
     "text": [
      "Model: \"sequential\"\n",
      "_________________________________________________________________\n",
      " Layer (type)                Output Shape              Param #   \n",
      "=================================================================\n",
      " lstm (LSTM)                 (None, 100, 50)           10400     \n",
      "                                                                 \n",
      " lstm_1 (LSTM)               (None, 100, 50)           20200     \n",
      "                                                                 \n",
      " lstm_2 (LSTM)               (None, 50)                20200     \n",
      "                                                                 \n",
      " dense (Dense)               (None, 1)                 51        \n",
      "                                                                 \n",
      "=================================================================\n",
      "Total params: 50,851\n",
      "Trainable params: 50,851\n",
      "Non-trainable params: 0\n",
      "_________________________________________________________________\n"
     ]
    }
   ],
   "source": [
    "model.summary()"
   ]
  },
  {
   "cell_type": "code",
   "execution_count": 17,
   "metadata": {},
   "outputs": [
    {
     "name": "stdout",
     "output_type": "stream",
     "text": [
      "Epoch 1/100\n",
      "12/12 [==============================] - 7s 222ms/step - loss: 0.0658 - val_loss: 0.0115\n",
      "Epoch 2/100\n",
      "12/12 [==============================] - 2s 129ms/step - loss: 0.0108 - val_loss: 0.0057\n",
      "Epoch 3/100\n",
      "12/12 [==============================] - 2s 135ms/step - loss: 0.0060 - val_loss: 0.0091\n",
      "Epoch 4/100\n",
      "12/12 [==============================] - 2s 136ms/step - loss: 0.0034 - val_loss: 0.0040\n",
      "Epoch 5/100\n",
      "12/12 [==============================] - 2s 135ms/step - loss: 0.0024 - val_loss: 0.0022\n",
      "Epoch 6/100\n",
      "12/12 [==============================] - 2s 139ms/step - loss: 0.0021 - val_loss: 0.0023\n",
      "Epoch 7/100\n",
      "12/12 [==============================] - 2s 133ms/step - loss: 0.0020 - val_loss: 0.0020\n",
      "Epoch 8/100\n",
      "12/12 [==============================] - 2s 134ms/step - loss: 0.0020 - val_loss: 0.0021\n",
      "Epoch 9/100\n",
      "12/12 [==============================] - 2s 139ms/step - loss: 0.0019 - val_loss: 0.0018\n",
      "Epoch 10/100\n",
      "12/12 [==============================] - 2s 139ms/step - loss: 0.0018 - val_loss: 0.0023\n",
      "Epoch 11/100\n",
      "12/12 [==============================] - 2s 136ms/step - loss: 0.0017 - val_loss: 0.0034\n",
      "Epoch 12/100\n",
      "12/12 [==============================] - 2s 136ms/step - loss: 0.0019 - val_loss: 0.0032\n",
      "Epoch 13/100\n",
      "12/12 [==============================] - 2s 142ms/step - loss: 0.0017 - val_loss: 0.0021\n",
      "Epoch 14/100\n",
      "12/12 [==============================] - 2s 145ms/step - loss: 0.0016 - val_loss: 0.0019\n",
      "Epoch 15/100\n",
      "12/12 [==============================] - 2s 140ms/step - loss: 0.0015 - val_loss: 0.0015\n",
      "Epoch 16/100\n",
      "12/12 [==============================] - 2s 141ms/step - loss: 0.0014 - val_loss: 0.0015\n",
      "Epoch 17/100\n",
      "12/12 [==============================] - 2s 137ms/step - loss: 0.0014 - val_loss: 0.0027\n",
      "Epoch 18/100\n",
      "12/12 [==============================] - 2s 135ms/step - loss: 0.0017 - val_loss: 0.0025\n",
      "Epoch 19/100\n",
      "12/12 [==============================] - 2s 137ms/step - loss: 0.0013 - val_loss: 0.0016\n",
      "Epoch 20/100\n",
      "12/12 [==============================] - 2s 132ms/step - loss: 0.0013 - val_loss: 0.0015\n",
      "Epoch 21/100\n",
      "12/12 [==============================] - 2s 131ms/step - loss: 0.0013 - val_loss: 0.0017\n",
      "Epoch 22/100\n",
      "12/12 [==============================] - 2s 132ms/step - loss: 0.0012 - val_loss: 0.0014\n",
      "Epoch 23/100\n",
      "12/12 [==============================] - 2s 131ms/step - loss: 0.0012 - val_loss: 0.0021\n",
      "Epoch 24/100\n",
      "12/12 [==============================] - 2s 130ms/step - loss: 0.0012 - val_loss: 0.0014\n",
      "Epoch 25/100\n",
      "12/12 [==============================] - 1s 124ms/step - loss: 0.0011 - val_loss: 0.0016\n",
      "Epoch 26/100\n",
      "12/12 [==============================] - 1s 125ms/step - loss: 0.0011 - val_loss: 0.0013\n",
      "Epoch 27/100\n",
      "12/12 [==============================] - 1s 122ms/step - loss: 0.0011 - val_loss: 0.0012\n",
      "Epoch 28/100\n",
      "12/12 [==============================] - 1s 124ms/step - loss: 0.0011 - val_loss: 0.0016\n",
      "Epoch 29/100\n",
      "12/12 [==============================] - 1s 121ms/step - loss: 0.0011 - val_loss: 0.0013\n",
      "Epoch 30/100\n",
      "12/12 [==============================] - 1s 120ms/step - loss: 0.0012 - val_loss: 0.0023\n",
      "Epoch 31/100\n",
      "12/12 [==============================] - 1s 120ms/step - loss: 0.0012 - val_loss: 0.0012\n",
      "Epoch 32/100\n",
      "12/12 [==============================] - 1s 121ms/step - loss: 0.0011 - val_loss: 0.0022\n",
      "Epoch 33/100\n",
      "12/12 [==============================] - 1s 124ms/step - loss: 0.0012 - val_loss: 0.0013\n",
      "Epoch 34/100\n",
      "12/12 [==============================] - 1s 120ms/step - loss: 0.0012 - val_loss: 0.0018\n",
      "Epoch 35/100\n",
      "12/12 [==============================] - 1s 117ms/step - loss: 0.0011 - val_loss: 0.0012\n",
      "Epoch 36/100\n",
      "12/12 [==============================] - 1s 119ms/step - loss: 0.0010 - val_loss: 0.0016\n",
      "Epoch 37/100\n",
      "12/12 [==============================] - 1s 118ms/step - loss: 9.8044e-04 - val_loss: 0.0012\n",
      "Epoch 38/100\n",
      "12/12 [==============================] - 1s 121ms/step - loss: 9.3944e-04 - val_loss: 0.0012\n",
      "Epoch 39/100\n",
      "12/12 [==============================] - 1s 122ms/step - loss: 9.3208e-04 - val_loss: 0.0014\n",
      "Epoch 40/100\n",
      "12/12 [==============================] - 2s 132ms/step - loss: 9.1230e-04 - val_loss: 0.0012\n",
      "Epoch 41/100\n",
      "12/12 [==============================] - 1s 126ms/step - loss: 9.4508e-04 - val_loss: 0.0025\n",
      "Epoch 42/100\n",
      "12/12 [==============================] - 1s 125ms/step - loss: 0.0011 - val_loss: 0.0014\n",
      "Epoch 43/100\n",
      "12/12 [==============================] - 1s 124ms/step - loss: 0.0012 - val_loss: 0.0024\n",
      "Epoch 44/100\n",
      "12/12 [==============================] - 2s 137ms/step - loss: 0.0011 - val_loss: 0.0011\n",
      "Epoch 45/100\n",
      "12/12 [==============================] - 1s 123ms/step - loss: 0.0010 - val_loss: 0.0023\n",
      "Epoch 46/100\n",
      "12/12 [==============================] - 1s 119ms/step - loss: 0.0011 - val_loss: 0.0011\n",
      "Epoch 47/100\n",
      "12/12 [==============================] - 1s 117ms/step - loss: 9.3047e-04 - val_loss: 0.0012\n",
      "Epoch 48/100\n",
      "12/12 [==============================] - 1s 117ms/step - loss: 8.3367e-04 - val_loss: 0.0012\n",
      "Epoch 49/100\n",
      "12/12 [==============================] - 1s 120ms/step - loss: 8.5476e-04 - val_loss: 0.0014\n",
      "Epoch 50/100\n",
      "12/12 [==============================] - 1s 119ms/step - loss: 8.0886e-04 - val_loss: 0.0011\n",
      "Epoch 51/100\n",
      "12/12 [==============================] - 1s 118ms/step - loss: 8.2403e-04 - val_loss: 0.0014\n",
      "Epoch 52/100\n",
      "12/12 [==============================] - 1s 119ms/step - loss: 8.4489e-04 - val_loss: 0.0012\n",
      "Epoch 53/100\n",
      "12/12 [==============================] - 2s 136ms/step - loss: 7.4885e-04 - val_loss: 0.0016\n",
      "Epoch 54/100\n",
      "12/12 [==============================] - 1s 121ms/step - loss: 7.4850e-04 - val_loss: 0.0011\n",
      "Epoch 55/100\n",
      "12/12 [==============================] - 2s 128ms/step - loss: 7.4941e-04 - val_loss: 0.0013\n",
      "Epoch 56/100\n",
      "12/12 [==============================] - 2s 171ms/step - loss: 7.7416e-04 - val_loss: 0.0011\n",
      "Epoch 57/100\n",
      "12/12 [==============================] - 1s 124ms/step - loss: 7.5705e-04 - val_loss: 0.0013\n",
      "Epoch 58/100\n",
      "12/12 [==============================] - 1s 119ms/step - loss: 7.9754e-04 - val_loss: 0.0011\n",
      "Epoch 59/100\n",
      "12/12 [==============================] - 2s 127ms/step - loss: 9.1078e-04 - val_loss: 0.0010\n",
      "Epoch 60/100\n",
      "12/12 [==============================] - 2s 133ms/step - loss: 9.1132e-04 - val_loss: 0.0017\n",
      "Epoch 61/100\n",
      "12/12 [==============================] - 2s 131ms/step - loss: 8.2089e-04 - val_loss: 0.0010\n",
      "Epoch 62/100\n",
      "12/12 [==============================] - 2s 141ms/step - loss: 7.5759e-04 - val_loss: 0.0014\n",
      "Epoch 63/100\n",
      "12/12 [==============================] - 1s 118ms/step - loss: 6.8527e-04 - val_loss: 0.0011\n",
      "Epoch 64/100\n",
      "12/12 [==============================] - 1s 124ms/step - loss: 6.8541e-04 - val_loss: 0.0013\n",
      "Epoch 65/100\n",
      "12/12 [==============================] - 1s 123ms/step - loss: 6.5139e-04 - val_loss: 0.0012\n",
      "Epoch 66/100\n",
      "12/12 [==============================] - 1s 124ms/step - loss: 6.4619e-04 - val_loss: 0.0014\n",
      "Epoch 67/100\n",
      "12/12 [==============================] - 2s 153ms/step - loss: 7.5137e-04 - val_loss: 0.0010\n",
      "Epoch 68/100\n",
      "12/12 [==============================] - 2s 127ms/step - loss: 6.7444e-04 - val_loss: 0.0010\n",
      "Epoch 69/100\n",
      "12/12 [==============================] - 1s 118ms/step - loss: 6.7319e-04 - val_loss: 0.0017\n",
      "Epoch 70/100\n",
      "12/12 [==============================] - 1s 123ms/step - loss: 7.4514e-04 - val_loss: 0.0011\n",
      "Epoch 71/100\n",
      "12/12 [==============================] - 1s 111ms/step - loss: 6.2391e-04 - val_loss: 9.7960e-04\n",
      "Epoch 72/100\n",
      "12/12 [==============================] - 1s 111ms/step - loss: 6.8276e-04 - val_loss: 0.0017\n",
      "Epoch 73/100\n",
      "12/12 [==============================] - 1s 113ms/step - loss: 8.0175e-04 - val_loss: 9.4383e-04\n",
      "Epoch 74/100\n",
      "12/12 [==============================] - 1s 112ms/step - loss: 6.2746e-04 - val_loss: 9.5792e-04\n",
      "Epoch 75/100\n",
      "12/12 [==============================] - 1s 111ms/step - loss: 5.6504e-04 - val_loss: 9.2248e-04\n",
      "Epoch 76/100\n",
      "12/12 [==============================] - 1s 109ms/step - loss: 5.6912e-04 - val_loss: 0.0012\n",
      "Epoch 77/100\n",
      "12/12 [==============================] - 1s 110ms/step - loss: 5.5853e-04 - val_loss: 9.5072e-04\n",
      "Epoch 78/100\n",
      "12/12 [==============================] - 1s 110ms/step - loss: 5.6666e-04 - val_loss: 0.0010\n",
      "Epoch 79/100\n",
      "12/12 [==============================] - 1s 110ms/step - loss: 5.2913e-04 - val_loss: 0.0012\n",
      "Epoch 80/100\n",
      "12/12 [==============================] - 1s 110ms/step - loss: 5.5132e-04 - val_loss: 9.2815e-04\n",
      "Epoch 81/100\n",
      "12/12 [==============================] - 1s 117ms/step - loss: 5.0687e-04 - val_loss: 9.1327e-04\n",
      "Epoch 82/100\n",
      "12/12 [==============================] - 1s 114ms/step - loss: 5.2494e-04 - val_loss: 0.0015\n",
      "Epoch 83/100\n",
      "12/12 [==============================] - 1s 115ms/step - loss: 5.6481e-04 - val_loss: 8.4541e-04\n",
      "Epoch 84/100\n",
      "12/12 [==============================] - 1s 118ms/step - loss: 5.2228e-04 - val_loss: 0.0011\n",
      "Epoch 85/100\n",
      "12/12 [==============================] - 1s 121ms/step - loss: 4.9130e-04 - val_loss: 8.8370e-04\n",
      "Epoch 86/100\n",
      "12/12 [==============================] - 1s 115ms/step - loss: 4.7522e-04 - val_loss: 9.0612e-04\n",
      "Epoch 87/100\n",
      "12/12 [==============================] - 1s 122ms/step - loss: 5.0885e-04 - val_loss: 9.8394e-04\n",
      "Epoch 88/100\n",
      "12/12 [==============================] - 1s 118ms/step - loss: 4.7803e-04 - val_loss: 8.1753e-04\n",
      "Epoch 89/100\n",
      "12/12 [==============================] - 1s 116ms/step - loss: 4.7363e-04 - val_loss: 7.8204e-04\n",
      "Epoch 90/100\n",
      "12/12 [==============================] - 1s 112ms/step - loss: 4.5717e-04 - val_loss: 9.2125e-04\n",
      "Epoch 91/100\n",
      "12/12 [==============================] - 1s 114ms/step - loss: 4.5880e-04 - val_loss: 9.4863e-04\n",
      "Epoch 92/100\n",
      "12/12 [==============================] - 1s 116ms/step - loss: 4.5363e-04 - val_loss: 0.0011\n",
      "Epoch 93/100\n",
      "12/12 [==============================] - 1s 117ms/step - loss: 5.6237e-04 - val_loss: 9.7443e-04\n",
      "Epoch 94/100\n",
      "12/12 [==============================] - 1s 115ms/step - loss: 4.3917e-04 - val_loss: 8.2701e-04\n",
      "Epoch 95/100\n",
      "12/12 [==============================] - 1s 110ms/step - loss: 4.2697e-04 - val_loss: 8.0901e-04\n",
      "Epoch 96/100\n",
      "12/12 [==============================] - 1s 117ms/step - loss: 4.3869e-04 - val_loss: 7.5479e-04\n",
      "Epoch 97/100\n",
      "12/12 [==============================] - 1s 110ms/step - loss: 4.6834e-04 - val_loss: 7.3860e-04\n",
      "Epoch 98/100\n",
      "12/12 [==============================] - 1s 111ms/step - loss: 4.3871e-04 - val_loss: 7.2466e-04\n",
      "Epoch 99/100\n",
      "12/12 [==============================] - 1s 116ms/step - loss: 4.2966e-04 - val_loss: 9.8656e-04\n",
      "Epoch 100/100\n",
      "12/12 [==============================] - 1s 113ms/step - loss: 4.5455e-04 - val_loss: 0.0016\n"
     ]
    },
    {
     "data": {
      "text/plain": [
       "<keras.callbacks.History at 0x1d6f4a2a2f0>"
      ]
     },
     "execution_count": 17,
     "metadata": {},
     "output_type": "execute_result"
    }
   ],
   "source": [
    "model.fit(X_train, y_train, validation_data=(X_test, y_valid), epochs=100, batch_size=64, verbose=1)"
   ]
  },
  {
   "cell_type": "markdown",
   "metadata": {},
   "source": [
    "## Predict"
   ]
  },
  {
   "cell_type": "code",
   "execution_count": 18,
   "metadata": {},
   "outputs": [
    {
     "name": "stdout",
     "output_type": "stream",
     "text": [
      "23/23 [==============================] - 1s 20ms/step\n",
      "11/11 [==============================] - 0s 20ms/step\n"
     ]
    }
   ],
   "source": [
    "train_predict = model.predict(X_train)\n",
    "test_predict = model.predict(X_test)"
   ]
  },
  {
   "cell_type": "code",
   "execution_count": 19,
   "metadata": {},
   "outputs": [],
   "source": [
    "train_predict = scaler.inverse_transform(train_predict)\n",
    "test_predict = scaler.inverse_transform(test_predict)"
   ]
  },
  {
   "cell_type": "markdown",
   "metadata": {},
   "source": [
    "## Calculate RMSE and Plot Data"
   ]
  },
  {
   "cell_type": "code",
   "execution_count": 23,
   "metadata": {},
   "outputs": [
    {
     "data": {
      "text/plain": [
       "14.076174845277075"
      ]
     },
     "execution_count": 23,
     "metadata": {},
     "output_type": "execute_result"
    }
   ],
   "source": [
    "math.sqrt(mean_squared_error(y_train, train_predict))"
   ]
  },
  {
   "cell_type": "code",
   "execution_count": 24,
   "metadata": {},
   "outputs": [
    {
     "data": {
      "text/plain": [
       "15.49761958745565"
      ]
     },
     "execution_count": 24,
     "metadata": {},
     "output_type": "execute_result"
    }
   ],
   "source": [
    "math.sqrt(mean_squared_error(y_valid, test_predict))"
   ]
  },
  {
   "cell_type": "code",
   "execution_count": 25,
   "metadata": {},
   "outputs": [
    {
     "data": {
      "image/png": "[encoded data removed]",
      "text/plain": [
       "<Figure size 432x288 with 1 Axes>"
      ]
     },
     "metadata": {
      "needs_background": "light"
     },
     "output_type": "display_data"
    }
   ],
   "source": [
    "trainPredictPlot= np.empty_like(df1)\n",
    "trainPredictPlot[:,:] = np.nan\n",
    "trainPredictPlot[time_step:len(train_predict)+time_step, :] = train_predict\n",
    "\n",
    "testPredictPlot = np.empty_like(df1)\n",
    "testPredictPlot[:,:] = np.nan\n",
    "testPredictPlot[len(train_predict)+time_step*2 + 1: len(df1)-1, :] = test_predict\n",
    "\n",
    "plt.plot(scaler.inverse_transform(df1))\n",
    "plt.plot(trainPredictPlot)\n",
    "plt.plot(testPredictPlot)\n",
    "plt.show()"
   ]
  }
 ],
 "metadata": {
  "interpreter": {
   "hash": "6f9fde4ed40b8e8a27ec940bc0f1e0da7ff742ed7e6749346b33edfcf125dcf7"
  },
  "kernelspec": {
   "display_name": "Python 3.10.1 ('.venv': venv)",
   "language": "python",
   "name": "python3"
  },
  "language_info": {
   "codemirror_mode": {
    "name": "ipython",
    "version": 3
   },
   "file_extension": ".py",
   "mimetype": "text/x-python",
   "name": "python",
   "nbconvert_exporter": "python",
   "pygments_lexer": "ipython3",
   "version": "3.10.1"
  },
  "orig_nbformat": 4
 },
 "nbformat": 4,
 "nbformat_minor": 2
}
