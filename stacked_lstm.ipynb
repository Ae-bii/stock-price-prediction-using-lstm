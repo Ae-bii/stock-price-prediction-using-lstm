{
 "cells": [
  {
   "cell_type": "code",
   "execution_count": 14,
   "metadata": {},
   "outputs": [],
   "source": [
    "\n",
    "import pandas_datareader as pdr\n",
    "import pandas as pd\n",
    "import matplotlib.pyplot as plt\n",
    "import numpy as np\n",
    "from sklearn.preprocessing import MinMaxScaler\n",
    "from tensorflow.keras.models import Sequential\n",
    "from tensorflow.keras.layers import Dense\n",
    "from tensorflow.keras.layers import LSTM"
   ]
  },
  {
   "cell_type": "markdown",
   "metadata": {},
   "source": [
    "## Collecting Data"
   ]
  },
  {
   "cell_type": "code",
   "execution_count": 15,
   "metadata": {},
   "outputs": [],
   "source": [
    "# df = pdr.get_data_tiingo('MRO', api_key=key)\n",
    "# df.to_csv('MRO.csv')"
   ]
  },
  {
   "cell_type": "code",
   "execution_count": 16,
   "metadata": {},
   "outputs": [
    {
     "data": {
      "text/html": [
       "<div>\n",
       "<style scoped>\n",
       "    .dataframe tbody tr th:only-of-type {\n",
       "        vertical-align: middle;\n",
       "    }\n",
       "\n",
       "    .dataframe tbody tr th {\n",
       "        vertical-align: top;\n",
       "    }\n",
       "\n",
       "    .dataframe thead th {\n",
       "        text-align: right;\n",
       "    }\n",
       "</style>\n",
       "<table border=\"1\" class=\"dataframe\">\n",
       "  <thead>\n",
       "    <tr style=\"text-align: right;\">\n",
       "      <th></th>\n",
       "      <th>symbol</th>\n",
       "      <th>date</th>\n",
       "      <th>close</th>\n",
       "      <th>high</th>\n",
       "      <th>low</th>\n",
       "      <th>open</th>\n",
       "      <th>volume</th>\n",
       "      <th>adjClose</th>\n",
       "      <th>adjHigh</th>\n",
       "      <th>adjLow</th>\n",
       "      <th>adjOpen</th>\n",
       "      <th>adjVolume</th>\n",
       "      <th>divCash</th>\n",
       "      <th>splitFactor</th>\n",
       "    </tr>\n",
       "  </thead>\n",
       "  <tbody>\n",
       "    <tr>\n",
       "      <th>0</th>\n",
       "      <td>MRO</td>\n",
       "      <td>2017-05-31 00:00:00+00:00</td>\n",
       "      <td>13.02</td>\n",
       "      <td>13.10</td>\n",
       "      <td>12.75</td>\n",
       "      <td>12.92</td>\n",
       "      <td>14540830</td>\n",
       "      <td>12.211546</td>\n",
       "      <td>12.286579</td>\n",
       "      <td>11.958311</td>\n",
       "      <td>12.117756</td>\n",
       "      <td>14540830</td>\n",
       "      <td>0.0</td>\n",
       "      <td>1.0</td>\n",
       "    </tr>\n",
       "    <tr>\n",
       "      <th>1</th>\n",
       "      <td>MRO</td>\n",
       "      <td>2017-06-01 00:00:00+00:00</td>\n",
       "      <td>13.10</td>\n",
       "      <td>13.41</td>\n",
       "      <td>12.95</td>\n",
       "      <td>13.05</td>\n",
       "      <td>11547207</td>\n",
       "      <td>12.286579</td>\n",
       "      <td>12.577330</td>\n",
       "      <td>12.145893</td>\n",
       "      <td>12.239683</td>\n",
       "      <td>11547207</td>\n",
       "      <td>0.0</td>\n",
       "      <td>1.0</td>\n",
       "    </tr>\n",
       "    <tr>\n",
       "      <th>2</th>\n",
       "      <td>MRO</td>\n",
       "      <td>2017-06-02 00:00:00+00:00</td>\n",
       "      <td>12.72</td>\n",
       "      <td>12.99</td>\n",
       "      <td>12.56</td>\n",
       "      <td>12.96</td>\n",
       "      <td>13797001</td>\n",
       "      <td>11.930174</td>\n",
       "      <td>12.183409</td>\n",
       "      <td>11.780109</td>\n",
       "      <td>12.155272</td>\n",
       "      <td>13797001</td>\n",
       "      <td>0.0</td>\n",
       "      <td>1.0</td>\n",
       "    </tr>\n",
       "    <tr>\n",
       "      <th>3</th>\n",
       "      <td>MRO</td>\n",
       "      <td>2017-06-05 00:00:00+00:00</td>\n",
       "      <td>12.78</td>\n",
       "      <td>12.86</td>\n",
       "      <td>12.54</td>\n",
       "      <td>12.61</td>\n",
       "      <td>10988204</td>\n",
       "      <td>11.986449</td>\n",
       "      <td>12.061481</td>\n",
       "      <td>11.761351</td>\n",
       "      <td>11.827004</td>\n",
       "      <td>10988204</td>\n",
       "      <td>0.0</td>\n",
       "      <td>1.0</td>\n",
       "    </tr>\n",
       "    <tr>\n",
       "      <th>4</th>\n",
       "      <td>MRO</td>\n",
       "      <td>2017-06-06 00:00:00+00:00</td>\n",
       "      <td>12.88</td>\n",
       "      <td>12.96</td>\n",
       "      <td>12.64</td>\n",
       "      <td>12.76</td>\n",
       "      <td>10639213</td>\n",
       "      <td>12.080239</td>\n",
       "      <td>12.155272</td>\n",
       "      <td>11.855142</td>\n",
       "      <td>11.967690</td>\n",
       "      <td>10639213</td>\n",
       "      <td>0.0</td>\n",
       "      <td>1.0</td>\n",
       "    </tr>\n",
       "  </tbody>\n",
       "</table>\n",
       "</div>"
      ],
      "text/plain": [
       "  symbol                       date  close  ...  adjVolume  divCash  splitFactor\n",
       "0    MRO  2017-05-31 00:00:00+00:00  13.02  ...   14540830      0.0          1.0\n",
       "1    MRO  2017-06-01 00:00:00+00:00  13.10  ...   11547207      0.0          1.0\n",
       "2    MRO  2017-06-02 00:00:00+00:00  12.72  ...   13797001      0.0          1.0\n",
       "3    MRO  2017-06-05 00:00:00+00:00  12.78  ...   10988204      0.0          1.0\n",
       "4    MRO  2017-06-06 00:00:00+00:00  12.88  ...   10639213      0.0          1.0\n",
       "\n",
       "[5 rows x 14 columns]"
      ]
     },
     "execution_count": 16,
     "metadata": {},
     "output_type": "execute_result"
    }
   ],
   "source": [
    "df = pd.read_csv('MRO.csv')\n",
    "df.head()"
   ]
  },
  {
   "cell_type": "code",
   "execution_count": 17,
   "metadata": {},
   "outputs": [
    {
     "data": {
      "text/plain": [
       "(1259,)"
      ]
     },
     "execution_count": 17,
     "metadata": {},
     "output_type": "execute_result"
    }
   ],
   "source": [
    "df1 = df.reset_index()['close']\n",
    "df1.shape"
   ]
  },
  {
   "cell_type": "code",
   "execution_count": 18,
   "metadata": {},
   "outputs": [
    {
     "data": {
      "text/plain": [
       "0    13.02\n",
       "1    13.10\n",
       "2    12.72\n",
       "3    12.78\n",
       "4    12.88\n",
       "Name: close, dtype: float64"
      ]
     },
     "execution_count": 18,
     "metadata": {},
     "output_type": "execute_result"
    }
   ],
   "source": [
    "df1.head()"
   ]
  },
  {
   "cell_type": "code",
   "execution_count": 19,
   "metadata": {},
   "outputs": [
    {
     "data": {
      "text/plain": [
       "[<matplotlib.lines.Line2D at 0x1b1d65725c0>]"
      ]
     },
     "execution_count": 19,
     "metadata": {},
     "output_type": "execute_result"
    },
    {
     "data": {
      "image/png": "[encoded data removed]",
      "text/plain": [
       "<Figure size 432x288 with 1 Axes>"
      ]
     },
     "metadata": {
      "needs_background": "light"
     },
     "output_type": "display_data"
    }
   ],
   "source": [
    "plt.plot(df1)"
   ]
  },
  {
   "cell_type": "code",
   "execution_count": 20,
   "metadata": {},
   "outputs": [
    {
     "data": {
      "text/plain": [
       "array([[0.35420394],\n",
       "       [0.35706619],\n",
       "       [0.34347048],\n",
       "       ...,\n",
       "       [0.92629696],\n",
       "       [0.95277281],\n",
       "       [1.        ]])"
      ]
     },
     "execution_count": 20,
     "metadata": {},
     "output_type": "execute_result"
    }
   ],
   "source": [
    "scaler = MinMaxScaler(feature_range=(0,1))\n",
    "df1 = scaler.fit_transform(np.array(df1).reshape(-1,1))\n",
    "df1"
   ]
  },
  {
   "cell_type": "markdown",
   "metadata": {},
   "source": [
    "## Splitting Data for Training and Testing"
   ]
  },
  {
   "cell_type": "code",
   "execution_count": 21,
   "metadata": {},
   "outputs": [
    {
     "data": {
      "text/plain": [
       "(818, 441)"
      ]
     },
     "execution_count": 21,
     "metadata": {},
     "output_type": "execute_result"
    }
   ],
   "source": [
    "train_size = int(len(df1)*0.65)\n",
    "test_size = len(df1) - train_size\n",
    "train_data, test_data = df1[0:train_size,:], df1[train_size:len(df1),:1]\n",
    "len(train_data), len(test_data)"
   ]
  },
  {
   "cell_type": "markdown",
   "metadata": {},
   "source": [
    "## Preprocessing"
   ]
  },
  {
   "cell_type": "code",
   "execution_count": 22,
   "metadata": {},
   "outputs": [],
   "source": [
    "def create_data_matrix(dataset, time_step=1):\n",
    "    dataX, dataY = [], []\n",
    "    for i in range(len(dataset) - time_step-1):\n",
    "        a = dataset[i:(i+time_step), 0]\n",
    "        dataX.append(a)\n",
    "        dataY.append(dataset[i + time_step, 0])\n",
    "    return np.array(dataX), np.array(dataY)"
   ]
  },
  {
   "cell_type": "code",
   "execution_count": 23,
   "metadata": {},
   "outputs": [],
   "source": [
    "time_step = 100\n",
    "X_train, y_train = create_data_matrix(train_data, time_step)\n",
    "X_test, y_valid = create_data_matrix(test_data, time_step)"
   ]
  },
  {
   "cell_type": "code",
   "execution_count": 24,
   "metadata": {},
   "outputs": [
    {
     "name": "stdout",
     "output_type": "stream",
     "text": [
      "(717, 100)\n",
      "(717,)\n",
      "(340, 100)\n",
      "(717,)\n"
     ]
    },
    {
     "data": {
      "text/plain": [
       "(None, None)"
      ]
     },
     "execution_count": 24,
     "metadata": {},
     "output_type": "execute_result"
    }
   ],
   "source": [
    "print(X_train.shape), print(y_train.shape)\n",
    "print(X_test.shape), print(y_train.shape)"
   ]
  },
  {
   "cell_type": "code",
   "execution_count": 25,
   "metadata": {},
   "outputs": [],
   "source": [
    "X_train = X_train.reshape(X_train.shape[0], X_train.shape[1], 1)\n",
    "X_test = X_test.reshape(X_test.shape[0], X_test.shape[1], 1)"
   ]
  },
  {
   "cell_type": "markdown",
   "metadata": {},
   "source": [
    "## Implementing Stacked LSTM Model"
   ]
  },
  {
   "cell_type": "code",
   "execution_count": null,
   "metadata": {},
   "outputs": [],
   "source": []
  }
 ],
 "metadata": {
  "interpreter": {
   "hash": "6f9fde4ed40b8e8a27ec940bc0f1e0da7ff742ed7e6749346b33edfcf125dcf7"
  },
  "kernelspec": {
   "display_name": "Python 3.10.1 ('.venv': venv)",
   "language": "python",
   "name": "python3"
  },
  "language_info": {
   "codemirror_mode": {
    "name": "ipython",
    "version": 3
   },
   "file_extension": ".py",
   "mimetype": "text/x-python",
   "name": "python",
   "nbconvert_exporter": "python",
   "pygments_lexer": "ipython3",
   "version": "3.10.1"
  },
  "orig_nbformat": 4
 },
 "nbformat": 4,
 "nbformat_minor": 2
}
