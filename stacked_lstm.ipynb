{
 "cells": [
  {
   "cell_type": "code",
   "execution_count": 2,
   "metadata": {},
   "outputs": [],
   "source": [
    "\n",
    "import pandas_datareader as pdr\n",
    "import pandas as pd\n",
    "import math\n",
    "import matplotlib.pyplot as plt\n",
    "import numpy as np\n",
    "from sklearn.preprocessing import MinMaxScaler\n",
    "from sklearn.metrics import mean_squared_error\n",
    "from tensorflow.keras.models import Sequential\n",
    "from tensorflow.keras.layers import Dense\n",
    "from tensorflow.keras.layers import LSTM"
   ]
  },
  {
   "cell_type": "markdown",
   "metadata": {},
   "source": [
    "## Collecting Data"
   ]
  },
  {
   "cell_type": "code",
   "execution_count": 3,
   "metadata": {},
   "outputs": [],
   "source": [
    "# df = pdr.get_data_tiingo('MRO', api_key=key)\n",
    "# df.to_csv('MRO.csv')"
   ]
  },
  {
   "cell_type": "code",
   "execution_count": 4,
   "metadata": {},
   "outputs": [
    {
     "data": {
      "text/html": [
       "<div>\n",
       "<style scoped>\n",
       "    .dataframe tbody tr th:only-of-type {\n",
       "        vertical-align: middle;\n",
       "    }\n",
       "\n",
       "    .dataframe tbody tr th {\n",
       "        vertical-align: top;\n",
       "    }\n",
       "\n",
       "    .dataframe thead th {\n",
       "        text-align: right;\n",
       "    }\n",
       "</style>\n",
       "<table border=\"1\" class=\"dataframe\">\n",
       "  <thead>\n",
       "    <tr style=\"text-align: right;\">\n",
       "      <th></th>\n",
       "      <th>symbol</th>\n",
       "      <th>date</th>\n",
       "      <th>close</th>\n",
       "      <th>high</th>\n",
       "      <th>low</th>\n",
       "      <th>open</th>\n",
       "      <th>volume</th>\n",
       "      <th>adjClose</th>\n",
       "      <th>adjHigh</th>\n",
       "      <th>adjLow</th>\n",
       "      <th>adjOpen</th>\n",
       "      <th>adjVolume</th>\n",
       "      <th>divCash</th>\n",
       "      <th>splitFactor</th>\n",
       "    </tr>\n",
       "  </thead>\n",
       "  <tbody>\n",
       "    <tr>\n",
       "      <th>0</th>\n",
       "      <td>MRO</td>\n",
       "      <td>2017-05-31 00:00:00+00:00</td>\n",
       "      <td>13.02</td>\n",
       "      <td>13.10</td>\n",
       "      <td>12.75</td>\n",
       "      <td>12.92</td>\n",
       "      <td>14540830</td>\n",
       "      <td>12.211546</td>\n",
       "      <td>12.286579</td>\n",
       "      <td>11.958311</td>\n",
       "      <td>12.117756</td>\n",
       "      <td>14540830</td>\n",
       "      <td>0.0</td>\n",
       "      <td>1.0</td>\n",
       "    </tr>\n",
       "    <tr>\n",
       "      <th>1</th>\n",
       "      <td>MRO</td>\n",
       "      <td>2017-06-01 00:00:00+00:00</td>\n",
       "      <td>13.10</td>\n",
       "      <td>13.41</td>\n",
       "      <td>12.95</td>\n",
       "      <td>13.05</td>\n",
       "      <td>11547207</td>\n",
       "      <td>12.286579</td>\n",
       "      <td>12.577330</td>\n",
       "      <td>12.145893</td>\n",
       "      <td>12.239683</td>\n",
       "      <td>11547207</td>\n",
       "      <td>0.0</td>\n",
       "      <td>1.0</td>\n",
       "    </tr>\n",
       "    <tr>\n",
       "      <th>2</th>\n",
       "      <td>MRO</td>\n",
       "      <td>2017-06-02 00:00:00+00:00</td>\n",
       "      <td>12.72</td>\n",
       "      <td>12.99</td>\n",
       "      <td>12.56</td>\n",
       "      <td>12.96</td>\n",
       "      <td>13797001</td>\n",
       "      <td>11.930174</td>\n",
       "      <td>12.183409</td>\n",
       "      <td>11.780109</td>\n",
       "      <td>12.155272</td>\n",
       "      <td>13797001</td>\n",
       "      <td>0.0</td>\n",
       "      <td>1.0</td>\n",
       "    </tr>\n",
       "    <tr>\n",
       "      <th>3</th>\n",
       "      <td>MRO</td>\n",
       "      <td>2017-06-05 00:00:00+00:00</td>\n",
       "      <td>12.78</td>\n",
       "      <td>12.86</td>\n",
       "      <td>12.54</td>\n",
       "      <td>12.61</td>\n",
       "      <td>10988204</td>\n",
       "      <td>11.986449</td>\n",
       "      <td>12.061481</td>\n",
       "      <td>11.761351</td>\n",
       "      <td>11.827004</td>\n",
       "      <td>10988204</td>\n",
       "      <td>0.0</td>\n",
       "      <td>1.0</td>\n",
       "    </tr>\n",
       "    <tr>\n",
       "      <th>4</th>\n",
       "      <td>MRO</td>\n",
       "      <td>2017-06-06 00:00:00+00:00</td>\n",
       "      <td>12.88</td>\n",
       "      <td>12.96</td>\n",
       "      <td>12.64</td>\n",
       "      <td>12.76</td>\n",
       "      <td>10639213</td>\n",
       "      <td>12.080239</td>\n",
       "      <td>12.155272</td>\n",
       "      <td>11.855142</td>\n",
       "      <td>11.967690</td>\n",
       "      <td>10639213</td>\n",
       "      <td>0.0</td>\n",
       "      <td>1.0</td>\n",
       "    </tr>\n",
       "  </tbody>\n",
       "</table>\n",
       "</div>"
      ],
      "text/plain": [
       "  symbol                       date  close   high    low   open    volume  \\\n",
       "0    MRO  2017-05-31 00:00:00+00:00  13.02  13.10  12.75  12.92  14540830   \n",
       "1    MRO  2017-06-01 00:00:00+00:00  13.10  13.41  12.95  13.05  11547207   \n",
       "2    MRO  2017-06-02 00:00:00+00:00  12.72  12.99  12.56  12.96  13797001   \n",
       "3    MRO  2017-06-05 00:00:00+00:00  12.78  12.86  12.54  12.61  10988204   \n",
       "4    MRO  2017-06-06 00:00:00+00:00  12.88  12.96  12.64  12.76  10639213   \n",
       "\n",
       "    adjClose    adjHigh     adjLow    adjOpen  adjVolume  divCash  splitFactor  \n",
       "0  12.211546  12.286579  11.958311  12.117756   14540830      0.0          1.0  \n",
       "1  12.286579  12.577330  12.145893  12.239683   11547207      0.0          1.0  \n",
       "2  11.930174  12.183409  11.780109  12.155272   13797001      0.0          1.0  \n",
       "3  11.986449  12.061481  11.761351  11.827004   10988204      0.0          1.0  \n",
       "4  12.080239  12.155272  11.855142  11.967690   10639213      0.0          1.0  "
      ]
     },
     "execution_count": 4,
     "metadata": {},
     "output_type": "execute_result"
    }
   ],
   "source": [
    "df = pd.read_csv('MRO.csv')\n",
    "df.head()"
   ]
  },
  {
   "cell_type": "code",
   "execution_count": 5,
   "metadata": {},
   "outputs": [
    {
     "data": {
      "text/plain": [
       "(1259,)"
      ]
     },
     "execution_count": 5,
     "metadata": {},
     "output_type": "execute_result"
    }
   ],
   "source": [
    "df1 = df.reset_index()['close']\n",
    "df1.shape"
   ]
  },
  {
   "cell_type": "code",
   "execution_count": 6,
   "metadata": {},
   "outputs": [
    {
     "data": {
      "text/plain": [
       "0    13.02\n",
       "1    13.10\n",
       "2    12.72\n",
       "3    12.78\n",
       "4    12.88\n",
       "Name: close, dtype: float64"
      ]
     },
     "execution_count": 6,
     "metadata": {},
     "output_type": "execute_result"
    }
   ],
   "source": [
    "df1.head()"
   ]
  },
  {
   "cell_type": "code",
   "execution_count": 7,
   "metadata": {},
   "outputs": [
    {
     "data": {
      "text/plain": [
       "[<matplotlib.lines.Line2D at 0x20cada8a4a0>]"
      ]
     },
     "execution_count": 7,
     "metadata": {},
     "output_type": "execute_result"
    },
    {
     "data": {
      "image/png": "[encoded data removed]",
      "text/plain": [
       "<Figure size 432x288 with 1 Axes>"
      ]
     },
     "metadata": {
      "needs_background": "light"
     },
     "output_type": "display_data"
    }
   ],
   "source": [
    "plt.plot(df1)"
   ]
  },
  {
   "cell_type": "code",
   "execution_count": 8,
   "metadata": {},
   "outputs": [
    {
     "data": {
      "text/plain": [
       "array([[0.35420394],\n",
       "       [0.35706619],\n",
       "       [0.34347048],\n",
       "       ...,\n",
       "       [0.92629696],\n",
       "       [0.95277281],\n",
       "       [1.        ]])"
      ]
     },
     "execution_count": 8,
     "metadata": {},
     "output_type": "execute_result"
    }
   ],
   "source": [
    "scaler = MinMaxScaler(feature_range=(0,1))\n",
    "df1 = scaler.fit_transform(np.array(df1).reshape(-1,1))\n",
    "df1"
   ]
  },
  {
   "cell_type": "markdown",
   "metadata": {},
   "source": [
    "## Splitting Data for Training and Testing"
   ]
  },
  {
   "cell_type": "code",
   "execution_count": 9,
   "metadata": {},
   "outputs": [
    {
     "data": {
      "text/plain": [
       "(818, 441)"
      ]
     },
     "execution_count": 9,
     "metadata": {},
     "output_type": "execute_result"
    }
   ],
   "source": [
    "train_size = int(len(df1)*0.65)\n",
    "test_size = len(df1) - train_size\n",
    "train_data, test_data = df1[0:train_size,:], df1[train_size:len(df1),:1]\n",
    "len(train_data), len(test_data)"
   ]
  },
  {
   "cell_type": "markdown",
   "metadata": {},
   "source": [
    "## Preprocessing"
   ]
  },
  {
   "cell_type": "code",
   "execution_count": 10,
   "metadata": {},
   "outputs": [],
   "source": [
    "def create_data_matrix(dataset, time_step=1):\n",
    "    dataX, dataY = [], []\n",
    "    for i in range(len(dataset) - time_step-1):\n",
    "        a = dataset[i:(i+time_step), 0]\n",
    "        dataX.append(a)\n",
    "        dataY.append(dataset[i + time_step, 0])\n",
    "    return np.array(dataX), np.array(dataY)"
   ]
  },
  {
   "cell_type": "code",
   "execution_count": 11,
   "metadata": {},
   "outputs": [],
   "source": [
    "time_step = 100\n",
    "X_train, y_train = create_data_matrix(train_data, time_step)\n",
    "X_test, y_valid = create_data_matrix(test_data, time_step)"
   ]
  },
  {
   "cell_type": "code",
   "execution_count": 12,
   "metadata": {},
   "outputs": [
    {
     "name": "stdout",
     "output_type": "stream",
     "text": [
      "(717, 100)\n",
      "(717,)\n",
      "(340, 100)\n",
      "(717,)\n"
     ]
    },
    {
     "data": {
      "text/plain": [
       "(None, None)"
      ]
     },
     "execution_count": 12,
     "metadata": {},
     "output_type": "execute_result"
    }
   ],
   "source": [
    "print(X_train.shape), print(y_train.shape)\n",
    "print(X_test.shape), print(y_train.shape)"
   ]
  },
  {
   "cell_type": "code",
   "execution_count": 13,
   "metadata": {},
   "outputs": [],
   "source": [
    "X_train = X_train.reshape(X_train.shape[0], X_train.shape[1], 1)\n",
    "X_test = X_test.reshape(X_test.shape[0], X_test.shape[1], 1)"
   ]
  },
  {
   "cell_type": "markdown",
   "metadata": {},
   "source": [
    "## Implementing Stacked LSTM Model"
   ]
  },
  {
   "cell_type": "code",
   "execution_count": 14,
   "metadata": {},
   "outputs": [],
   "source": [
    "model = Sequential()\n",
    "model.add(LSTM(50, return_sequences=True, input_shape=(100,1)))\n",
    "model.add(LSTM(50, return_sequences=True))\n",
    "model.add(LSTM(50))\n",
    "model.add(Dense(1))\n",
    "model.compile(loss='mean_squared_error', optimizer='adam')"
   ]
  },
  {
   "cell_type": "code",
   "execution_count": 15,
   "metadata": {},
   "outputs": [
    {
     "name": "stdout",
     "output_type": "stream",
     "text": [
      "Model: \"sequential\"\n",
      "_________________________________________________________________\n",
      " Layer (type)                Output Shape              Param #   \n",
      "=================================================================\n",
      " lstm (LSTM)                 (None, 100, 50)           10400     \n",
      "                                                                 \n",
      " lstm_1 (LSTM)               (None, 100, 50)           20200     \n",
      "                                                                 \n",
      " lstm_2 (LSTM)               (None, 50)                20200     \n",
      "                                                                 \n",
      " dense (Dense)               (None, 1)                 51        \n",
      "                                                                 \n",
      "=================================================================\n",
      "Total params: 50,851\n",
      "Trainable params: 50,851\n",
      "Non-trainable params: 0\n",
      "_________________________________________________________________\n"
     ]
    }
   ],
   "source": [
    "model.summary()"
   ]
  },
  {
   "cell_type": "code",
   "execution_count": 16,
   "metadata": {},
   "outputs": [
    {
     "name": "stdout",
     "output_type": "stream",
     "text": [
      "Epoch 1/100\n",
      "12/12 [==============================] - 7s 237ms/step - loss: 0.0536 - val_loss: 0.0184\n",
      "Epoch 2/100\n",
      "12/12 [==============================] - 2s 155ms/step - loss: 0.0096 - val_loss: 0.0045\n",
      "Epoch 3/100\n",
      "12/12 [==============================] - 2s 178ms/step - loss: 0.0049 - val_loss: 0.0066\n",
      "Epoch 4/100\n",
      "12/12 [==============================] - 2s 130ms/step - loss: 0.0028 - val_loss: 0.0042\n",
      "Epoch 5/100\n",
      "12/12 [==============================] - 2s 133ms/step - loss: 0.0022 - val_loss: 0.0024\n",
      "Epoch 6/100\n",
      "12/12 [==============================] - 2s 125ms/step - loss: 0.0020 - val_loss: 0.0028\n",
      "Epoch 7/100\n",
      "12/12 [==============================] - 2s 146ms/step - loss: 0.0020 - val_loss: 0.0025\n",
      "Epoch 8/100\n",
      "12/12 [==============================] - 2s 147ms/step - loss: 0.0019 - val_loss: 0.0023\n",
      "Epoch 9/100\n",
      "12/12 [==============================] - 2s 144ms/step - loss: 0.0018 - val_loss: 0.0025\n",
      "Epoch 10/100\n",
      "12/12 [==============================] - 2s 140ms/step - loss: 0.0018 - val_loss: 0.0024\n",
      "Epoch 11/100\n",
      "12/12 [==============================] - 2s 139ms/step - loss: 0.0017 - val_loss: 0.0025\n",
      "Epoch 12/100\n",
      "12/12 [==============================] - 2s 137ms/step - loss: 0.0016 - val_loss: 0.0021\n",
      "Epoch 13/100\n",
      "12/12 [==============================] - 2s 141ms/step - loss: 0.0016 - val_loss: 0.0025\n",
      "Epoch 14/100\n",
      "12/12 [==============================] - 1s 124ms/step - loss: 0.0016 - val_loss: 0.0022\n",
      "Epoch 15/100\n",
      "12/12 [==============================] - 2s 127ms/step - loss: 0.0014 - val_loss: 0.0016\n",
      "Epoch 16/100\n",
      "12/12 [==============================] - 1s 120ms/step - loss: 0.0014 - val_loss: 0.0014\n",
      "Epoch 17/100\n",
      "12/12 [==============================] - 1s 119ms/step - loss: 0.0013 - val_loss: 0.0021\n",
      "Epoch 18/100\n",
      "12/12 [==============================] - 2s 126ms/step - loss: 0.0013 - val_loss: 0.0017\n",
      "Epoch 19/100\n",
      "12/12 [==============================] - 1s 120ms/step - loss: 0.0012 - val_loss: 0.0014\n",
      "Epoch 20/100\n",
      "12/12 [==============================] - 1s 124ms/step - loss: 0.0013 - val_loss: 0.0016\n",
      "Epoch 21/100\n",
      "12/12 [==============================] - 2s 148ms/step - loss: 0.0012 - val_loss: 0.0017\n",
      "Epoch 22/100\n",
      "12/12 [==============================] - 2s 139ms/step - loss: 0.0011 - val_loss: 0.0019\n",
      "Epoch 23/100\n",
      "12/12 [==============================] - 2s 127ms/step - loss: 0.0011 - val_loss: 0.0017\n",
      "Epoch 24/100\n",
      "12/12 [==============================] - 1s 123ms/step - loss: 0.0011 - val_loss: 0.0016\n",
      "Epoch 25/100\n",
      "12/12 [==============================] - 1s 123ms/step - loss: 0.0011 - val_loss: 0.0016\n",
      "Epoch 26/100\n",
      "12/12 [==============================] - 1s 126ms/step - loss: 0.0012 - val_loss: 0.0013\n",
      "Epoch 27/100\n",
      "12/12 [==============================] - 1s 119ms/step - loss: 0.0011 - val_loss: 0.0013\n",
      "Epoch 28/100\n",
      "12/12 [==============================] - 1s 117ms/step - loss: 0.0011 - val_loss: 0.0014\n",
      "Epoch 29/100\n",
      "12/12 [==============================] - 1s 114ms/step - loss: 0.0010 - val_loss: 0.0015\n",
      "Epoch 30/100\n",
      "12/12 [==============================] - 1s 116ms/step - loss: 0.0010 - val_loss: 0.0013\n",
      "Epoch 31/100\n",
      "12/12 [==============================] - 1s 113ms/step - loss: 0.0010 - val_loss: 0.0018\n",
      "Epoch 32/100\n",
      "12/12 [==============================] - 1s 114ms/step - loss: 0.0010 - val_loss: 0.0015\n",
      "Epoch 33/100\n",
      "12/12 [==============================] - 1s 111ms/step - loss: 0.0011 - val_loss: 0.0012\n",
      "Epoch 34/100\n",
      "12/12 [==============================] - 1s 112ms/step - loss: 0.0011 - val_loss: 0.0017\n",
      "Epoch 35/100\n",
      "12/12 [==============================] - 1s 113ms/step - loss: 0.0010 - val_loss: 0.0015\n",
      "Epoch 36/100\n",
      "12/12 [==============================] - 1s 112ms/step - loss: 9.1138e-04 - val_loss: 0.0019\n",
      "Epoch 37/100\n",
      "12/12 [==============================] - 1s 111ms/step - loss: 0.0010 - val_loss: 0.0012\n",
      "Epoch 38/100\n",
      "12/12 [==============================] - 1s 109ms/step - loss: 9.4510e-04 - val_loss: 0.0019\n",
      "Epoch 39/100\n",
      "12/12 [==============================] - 1s 111ms/step - loss: 9.8587e-04 - val_loss: 0.0012\n",
      "Epoch 40/100\n",
      "12/12 [==============================] - 1s 110ms/step - loss: 8.7199e-04 - val_loss: 0.0013\n",
      "Epoch 41/100\n",
      "12/12 [==============================] - 1s 109ms/step - loss: 9.0252e-04 - val_loss: 0.0012\n",
      "Epoch 42/100\n",
      "12/12 [==============================] - 1s 111ms/step - loss: 8.6231e-04 - val_loss: 0.0014\n",
      "Epoch 43/100\n",
      "12/12 [==============================] - 1s 111ms/step - loss: 9.1615e-04 - val_loss: 0.0023\n",
      "Epoch 44/100\n",
      "12/12 [==============================] - 1s 112ms/step - loss: 9.7218e-04 - val_loss: 0.0011\n",
      "Epoch 45/100\n",
      "12/12 [==============================] - 1s 111ms/step - loss: 9.0201e-04 - val_loss: 0.0022\n",
      "Epoch 46/100\n",
      "12/12 [==============================] - 1s 112ms/step - loss: 9.3172e-04 - val_loss: 0.0011\n",
      "Epoch 47/100\n",
      "12/12 [==============================] - 1s 112ms/step - loss: 8.3500e-04 - val_loss: 0.0013\n",
      "Epoch 48/100\n",
      "12/12 [==============================] - 1s 111ms/step - loss: 8.3163e-04 - val_loss: 0.0012\n",
      "Epoch 49/100\n",
      "12/12 [==============================] - 1s 111ms/step - loss: 8.5888e-04 - val_loss: 0.0014\n",
      "Epoch 50/100\n",
      "12/12 [==============================] - 1s 110ms/step - loss: 8.4458e-04 - val_loss: 0.0014\n",
      "Epoch 51/100\n",
      "12/12 [==============================] - 1s 111ms/step - loss: 7.7779e-04 - val_loss: 0.0013\n",
      "Epoch 52/100\n",
      "12/12 [==============================] - 1s 111ms/step - loss: 9.7178e-04 - val_loss: 0.0014\n",
      "Epoch 53/100\n",
      "12/12 [==============================] - 1s 110ms/step - loss: 7.6557e-04 - val_loss: 0.0012\n",
      "Epoch 54/100\n",
      "12/12 [==============================] - 1s 114ms/step - loss: 7.4892e-04 - val_loss: 0.0014\n",
      "Epoch 55/100\n",
      "12/12 [==============================] - 1s 111ms/step - loss: 7.4345e-04 - val_loss: 0.0012\n",
      "Epoch 56/100\n",
      "12/12 [==============================] - 1s 109ms/step - loss: 7.0599e-04 - val_loss: 0.0014\n",
      "Epoch 57/100\n",
      "12/12 [==============================] - 1s 112ms/step - loss: 7.5711e-04 - val_loss: 0.0011\n",
      "Epoch 58/100\n",
      "12/12 [==============================] - 1s 108ms/step - loss: 7.7901e-04 - val_loss: 0.0012\n",
      "Epoch 59/100\n",
      "12/12 [==============================] - 1s 125ms/step - loss: 8.6648e-04 - val_loss: 0.0024\n",
      "Epoch 60/100\n",
      "12/12 [==============================] - 2s 131ms/step - loss: 8.6673e-04 - val_loss: 0.0011\n",
      "Epoch 61/100\n",
      "12/12 [==============================] - 2s 132ms/step - loss: 8.0012e-04 - val_loss: 0.0013\n",
      "Epoch 62/100\n",
      "12/12 [==============================] - 2s 131ms/step - loss: 7.0494e-04 - val_loss: 0.0023\n",
      "Epoch 63/100\n",
      "12/12 [==============================] - 2s 134ms/step - loss: 7.6304e-04 - val_loss: 0.0011\n",
      "Epoch 64/100\n",
      "12/12 [==============================] - 2s 136ms/step - loss: 7.0308e-04 - val_loss: 0.0013\n",
      "Epoch 65/100\n",
      "12/12 [==============================] - 2s 139ms/step - loss: 6.8916e-04 - val_loss: 0.0011\n",
      "Epoch 66/100\n",
      "12/12 [==============================] - 2s 132ms/step - loss: 6.3595e-04 - val_loss: 0.0012\n",
      "Epoch 67/100\n",
      "12/12 [==============================] - 2s 131ms/step - loss: 6.1984e-04 - val_loss: 0.0013\n",
      "Epoch 68/100\n",
      "12/12 [==============================] - 1s 112ms/step - loss: 6.1099e-04 - val_loss: 0.0011\n",
      "Epoch 69/100\n",
      "12/12 [==============================] - 1s 113ms/step - loss: 6.6478e-04 - val_loss: 0.0010\n",
      "Epoch 70/100\n",
      "12/12 [==============================] - 1s 122ms/step - loss: 7.5142e-04 - val_loss: 0.0020\n",
      "Epoch 71/100\n",
      "12/12 [==============================] - 2s 139ms/step - loss: 7.2170e-04 - val_loss: 0.0011\n",
      "Epoch 72/100\n",
      "12/12 [==============================] - 1s 123ms/step - loss: 6.8784e-04 - val_loss: 0.0010\n",
      "Epoch 73/100\n",
      "12/12 [==============================] - 1s 115ms/step - loss: 6.1404e-04 - val_loss: 0.0010\n",
      "Epoch 74/100\n",
      "12/12 [==============================] - 1s 119ms/step - loss: 6.3579e-04 - val_loss: 0.0020\n",
      "Epoch 75/100\n",
      "12/12 [==============================] - 1s 115ms/step - loss: 6.8587e-04 - val_loss: 0.0010\n",
      "Epoch 76/100\n",
      "12/12 [==============================] - 1s 122ms/step - loss: 7.2869e-04 - val_loss: 0.0011\n",
      "Epoch 77/100\n",
      "12/12 [==============================] - 1s 118ms/step - loss: 6.4335e-04 - val_loss: 0.0019\n",
      "Epoch 78/100\n",
      "12/12 [==============================] - 1s 114ms/step - loss: 6.3983e-04 - val_loss: 9.9680e-04\n",
      "Epoch 79/100\n",
      "12/12 [==============================] - 1s 116ms/step - loss: 5.6163e-04 - val_loss: 0.0010\n",
      "Epoch 80/100\n",
      "12/12 [==============================] - 1s 124ms/step - loss: 5.4795e-04 - val_loss: 9.5998e-04\n",
      "Epoch 81/100\n",
      "12/12 [==============================] - 1s 116ms/step - loss: 5.3971e-04 - val_loss: 9.9392e-04\n",
      "Epoch 82/100\n",
      "12/12 [==============================] - 1s 114ms/step - loss: 5.1361e-04 - val_loss: 0.0010\n",
      "Epoch 83/100\n",
      "12/12 [==============================] - 2s 127ms/step - loss: 5.3108e-04 - val_loss: 0.0014\n",
      "Epoch 84/100\n",
      "12/12 [==============================] - 1s 112ms/step - loss: 6.0870e-04 - val_loss: 9.5069e-04\n",
      "Epoch 85/100\n",
      "12/12 [==============================] - 1s 116ms/step - loss: 5.4457e-04 - val_loss: 8.9260e-04\n",
      "Epoch 86/100\n",
      "12/12 [==============================] - 2s 132ms/step - loss: 5.1419e-04 - val_loss: 0.0011\n",
      "Epoch 87/100\n",
      "12/12 [==============================] - 2s 133ms/step - loss: 6.0300e-04 - val_loss: 0.0013\n",
      "Epoch 88/100\n",
      "12/12 [==============================] - 2s 130ms/step - loss: 5.4130e-04 - val_loss: 8.6931e-04\n",
      "Epoch 89/100\n",
      "12/12 [==============================] - 2s 133ms/step - loss: 5.0110e-04 - val_loss: 0.0012\n",
      "Epoch 90/100\n",
      "12/12 [==============================] - 2s 135ms/step - loss: 5.2995e-04 - val_loss: 8.4914e-04\n",
      "Epoch 91/100\n",
      "12/12 [==============================] - 2s 129ms/step - loss: 5.5941e-04 - val_loss: 8.6193e-04\n",
      "Epoch 92/100\n",
      "12/12 [==============================] - 1s 123ms/step - loss: 5.2121e-04 - val_loss: 9.7138e-04\n",
      "Epoch 93/100\n",
      "12/12 [==============================] - 1s 113ms/step - loss: 4.9008e-04 - val_loss: 8.3654e-04\n",
      "Epoch 94/100\n",
      "12/12 [==============================] - 1s 113ms/step - loss: 4.8470e-04 - val_loss: 9.0311e-04\n",
      "Epoch 95/100\n",
      "12/12 [==============================] - 1s 115ms/step - loss: 4.5702e-04 - val_loss: 9.4299e-04\n",
      "Epoch 96/100\n",
      "12/12 [==============================] - 1s 114ms/step - loss: 4.5488e-04 - val_loss: 8.4661e-04\n",
      "Epoch 97/100\n",
      "12/12 [==============================] - 1s 114ms/step - loss: 5.6247e-04 - val_loss: 9.4342e-04\n",
      "Epoch 98/100\n",
      "12/12 [==============================] - 1s 113ms/step - loss: 4.4407e-04 - val_loss: 8.5057e-04\n",
      "Epoch 99/100\n",
      "12/12 [==============================] - 1s 115ms/step - loss: 4.5246e-04 - val_loss: 9.5586e-04\n",
      "Epoch 100/100\n",
      "12/12 [==============================] - 1s 114ms/step - loss: 4.8651e-04 - val_loss: 8.2522e-04\n"
     ]
    },
    {
     "data": {
      "text/plain": [
       "<keras.callbacks.History at 0x20cafeb3e50>"
      ]
     },
     "execution_count": 16,
     "metadata": {},
     "output_type": "execute_result"
    }
   ],
   "source": [
    "model.fit(X_train, y_train, validation_data=(X_test, y_valid), epochs=100, batch_size=64, verbose=1)"
   ]
  },
  {
   "cell_type": "markdown",
   "metadata": {},
   "source": [
    "## Predict Test Data"
   ]
  },
  {
   "cell_type": "code",
   "execution_count": 17,
   "metadata": {},
   "outputs": [
    {
     "name": "stdout",
     "output_type": "stream",
     "text": [
      "23/23 [==============================] - 1s 24ms/step\n",
      "11/11 [==============================] - 0s 25ms/step\n"
     ]
    }
   ],
   "source": [
    "train_predict = model.predict(X_train)\n",
    "test_predict = model.predict(X_test)"
   ]
  },
  {
   "cell_type": "code",
   "execution_count": 18,
   "metadata": {},
   "outputs": [],
   "source": [
    "train_predict = scaler.inverse_transform(train_predict)\n",
    "test_predict = scaler.inverse_transform(test_predict)"
   ]
  },
  {
   "cell_type": "markdown",
   "metadata": {},
   "source": [
    "## Calculate RMSE and Plot Data"
   ]
  },
  {
   "cell_type": "code",
   "execution_count": 19,
   "metadata": {},
   "outputs": [
    {
     "data": {
      "text/plain": [
       "14.653996821622258"
      ]
     },
     "execution_count": 19,
     "metadata": {},
     "output_type": "execute_result"
    }
   ],
   "source": [
    "math.sqrt(mean_squared_error(y_train, train_predict))"
   ]
  },
  {
   "cell_type": "code",
   "execution_count": 20,
   "metadata": {},
   "outputs": [
    {
     "data": {
      "text/plain": [
       "16.124132745011682"
      ]
     },
     "execution_count": 20,
     "metadata": {},
     "output_type": "execute_result"
    }
   ],
   "source": [
    "math.sqrt(mean_squared_error(y_valid, test_predict))"
   ]
  },
  {
   "cell_type": "code",
   "execution_count": 21,
   "metadata": {},
   "outputs": [
    {
     "data": {
      "image/png": "[encoded data removed]",
      "text/plain": [
       "<Figure size 432x288 with 1 Axes>"
      ]
     },
     "metadata": {
      "needs_background": "light"
     },
     "output_type": "display_data"
    }
   ],
   "source": [
    "trainPredictPlot = np.empty_like(df1)\n",
    "trainPredictPlot[:,:] = np.nan\n",
    "trainPredictPlot[time_step:len(train_predict)+time_step, :] = train_predict\n",
    "\n",
    "testPredictPlot = np.empty_like(df1)\n",
    "testPredictPlot[:,:] = np.nan\n",
    "testPredictPlot[len(train_predict)+time_step*2 + 1: len(df1)-1, :] = test_predict\n",
    "\n",
    "plt.plot(scaler.inverse_transform(df1))\n",
    "plt.plot(trainPredictPlot)\n",
    "plt.plot(testPredictPlot)\n",
    "plt.show()"
   ]
  },
  {
   "cell_type": "markdown",
   "metadata": {},
   "source": [
    "## Predict Future Data"
   ]
  },
  {
   "cell_type": "code",
   "execution_count": 22,
   "metadata": {},
   "outputs": [
    {
     "data": {
      "text/plain": [
       "441"
      ]
     },
     "execution_count": 22,
     "metadata": {},
     "output_type": "execute_result"
    }
   ],
   "source": [
    "len(test_data)"
   ]
  },
  {
   "cell_type": "code",
   "execution_count": 23,
   "metadata": {},
   "outputs": [
    {
     "data": {
      "text/plain": [
       "(1, 100)"
      ]
     },
     "execution_count": 23,
     "metadata": {},
     "output_type": "execute_result"
    }
   ],
   "source": [
    "x_input = test_data[341:].reshape(1,-1)\n",
    "x_input.shape"
   ]
  },
  {
   "cell_type": "code",
   "execution_count": 24,
   "metadata": {},
   "outputs": [],
   "source": [
    "temp_input=list(x_input)\n",
    "temp_input=temp_input[0].tolist()"
   ]
  },
  {
   "cell_type": "code",
   "execution_count": 25,
   "metadata": {},
   "outputs": [
    {
     "data": {
      "text/plain": [
       "[0.5041144901610018,\n",
       " 0.5334525939177102,\n",
       " 0.5409660107334525,\n",
       " 0.523076923076923,\n",
       " 0.5559928443649373,\n",
       " 0.5577817531305903,\n",
       " 0.552772808586762,\n",
       " 0.5849731663685152,\n",
       " 0.5835420393559928,\n",
       " 0.5717352415026834,\n",
       " 0.5567084078711986,\n",
       " 0.5359570661896244,\n",
       " 0.5431127012522361,\n",
       " 0.586046511627907,\n",
       " 0.5899821109123434,\n",
       " 0.5985688729874776,\n",
       " 0.598211091234347,\n",
       " 0.5849731663685152,\n",
       " 0.6271914132379248,\n",
       " 0.6386404293381037,\n",
       " 0.6339892665474061,\n",
       " 0.657602862254025,\n",
       " 0.6615384615384615,\n",
       " 0.643649373881932,\n",
       " 0.6586762075134168,\n",
       " 0.6543828264758497,\n",
       " 0.683005366726297,\n",
       " 0.6472271914132379,\n",
       " 0.6232558139534883,\n",
       " 0.6422182468694096,\n",
       " 0.6715563506261181,\n",
       " 0.6708407871198568,\n",
       " 0.661180679785331,\n",
       " 0.6661896243291591,\n",
       " 0.6550983899821109,\n",
       " 0.6711985688729875,\n",
       " 0.6955277280858675,\n",
       " 0.7073345259391771,\n",
       " 0.7112701252236135,\n",
       " 0.7073345259391771,\n",
       " 0.7402504472271914,\n",
       " 0.758855098389982,\n",
       " 0.7502683363148479,\n",
       " 0.7255813953488371,\n",
       " 0.7427549194991054,\n",
       " 0.7173524150268337,\n",
       " 0.6819320214669051,\n",
       " 0.6629695885509839,\n",
       " 0.6608228980322003,\n",
       " 0.7137745974955277,\n",
       " 0.7141323792486582,\n",
       " 0.7846153846153846,\n",
       " 0.7706618962432915,\n",
       " 0.8035778175313057,\n",
       " 0.801788908765653,\n",
       " 0.820035778175313,\n",
       " 0.7932021466905187,\n",
       " 0.7828264758497316,\n",
       " 0.8007155635062612,\n",
       " 0.7867620751341681,\n",
       " 0.8096601073345259,\n",
       " 0.8071556350626118,\n",
       " 0.7756708407871199,\n",
       " 0.7620751341681574,\n",
       " 0.7803220035778174,\n",
       " 0.8150268336314848,\n",
       " 0.7906976744186046,\n",
       " 0.8282647584973166,\n",
       " 0.8389982110912343,\n",
       " 0.8404293381037566,\n",
       " 0.8500894454382826,\n",
       " 0.8465116279069768,\n",
       " 0.877638640429338,\n",
       " 0.821824686940966,\n",
       " 0.7828264758497316,\n",
       " 0.7520572450805009,\n",
       " 0.7499105545617173,\n",
       " 0.7706618962432915,\n",
       " 0.7992844364937388,\n",
       " 0.7799642218246869,\n",
       " 0.7810375670840787,\n",
       " 0.8275491949910554,\n",
       " 0.8790697674418605,\n",
       " 0.8787119856887298,\n",
       " 0.8955277280858674,\n",
       " 0.7542039355992843,\n",
       " 0.7610017889087657,\n",
       " 0.7889087656529518,\n",
       " 0.7874776386404293,\n",
       " 0.8543828264758497,\n",
       " 0.8894454382826477,\n",
       " 0.9030411449016099,\n",
       " 0.8461538461538461,\n",
       " 0.8500894454382826,\n",
       " 0.863685152057245,\n",
       " 0.8948121645796064,\n",
       " 0.8930232558139534,\n",
       " 0.9262969588550983,\n",
       " 0.952772808586762,\n",
       " 0.9999999999999999]"
      ]
     },
     "execution_count": 25,
     "metadata": {},
     "output_type": "execute_result"
    }
   ],
   "source": [
    "temp_input"
   ]
  },
  {
   "cell_type": "code",
   "execution_count": 26,
   "metadata": {},
   "outputs": [
    {
     "name": "stdout",
     "output_type": "stream",
     "text": [
      "[0.9267231]\n",
      "101\n",
      "1 day input [0.53345259 0.54096601 0.52307692 0.55599284 0.55778175 0.55277281\n",
      " 0.58497317 0.58354204 0.57173524 0.55670841 0.53595707 0.5431127\n",
      " 0.58604651 0.58998211 0.59856887 0.59821109 0.58497317 0.62719141\n",
      " 0.63864043 0.63398927 0.65760286 0.66153846 0.64364937 0.65867621\n",
      " 0.65438283 0.68300537 0.64722719 0.62325581 0.64221825 0.67155635\n",
      " 0.67084079 0.66118068 0.66618962 0.65509839 0.67119857 0.69552773\n",
      " 0.70733453 0.71127013 0.70733453 0.74025045 0.7588551  0.75026834\n",
      " 0.7255814  0.74275492 0.71735242 0.68193202 0.66296959 0.6608229\n",
      " 0.7137746  0.71413238 0.78461538 0.7706619  0.80357782 0.80178891\n",
      " 0.82003578 0.79320215 0.78282648 0.80071556 0.78676208 0.80966011\n",
      " 0.80715564 0.77567084 0.76207513 0.780322   0.81502683 0.79069767\n",
      " 0.82826476 0.83899821 0.84042934 0.85008945 0.84651163 0.87763864\n",
      " 0.82182469 0.78282648 0.75205725 0.74991055 0.7706619  0.79928444\n",
      " 0.77996422 0.78103757 0.82754919 0.87906977 0.87871199 0.89552773\n",
      " 0.75420394 0.76100179 0.78890877 0.78747764 0.85438283 0.88944544\n",
      " 0.90304114 0.84615385 0.85008945 0.86368515 0.89481216 0.89302326\n",
      " 0.92629696 0.95277281 1.         0.92672312]\n",
      "1 day output [[0.93689835]]\n",
      "2 day input [0.54096601 0.52307692 0.55599284 0.55778175 0.55277281 0.58497317\n",
      " 0.58354204 0.57173524 0.55670841 0.53595707 0.5431127  0.58604651\n",
      " 0.58998211 0.59856887 0.59821109 0.58497317 0.62719141 0.63864043\n",
      " 0.63398927 0.65760286 0.66153846 0.64364937 0.65867621 0.65438283\n",
      " 0.68300537 0.64722719 0.62325581 0.64221825 0.67155635 0.67084079\n",
      " 0.66118068 0.66618962 0.65509839 0.67119857 0.69552773 0.70733453\n",
      " 0.71127013 0.70733453 0.74025045 0.7588551  0.75026834 0.7255814\n",
      " 0.74275492 0.71735242 0.68193202 0.66296959 0.6608229  0.7137746\n",
      " 0.71413238 0.78461538 0.7706619  0.80357782 0.80178891 0.82003578\n",
      " 0.79320215 0.78282648 0.80071556 0.78676208 0.80966011 0.80715564\n",
      " 0.77567084 0.76207513 0.780322   0.81502683 0.79069767 0.82826476\n",
      " 0.83899821 0.84042934 0.85008945 0.84651163 0.87763864 0.82182469\n",
      " 0.78282648 0.75205725 0.74991055 0.7706619  0.79928444 0.77996422\n",
      " 0.78103757 0.82754919 0.87906977 0.87871199 0.89552773 0.75420394\n",
      " 0.76100179 0.78890877 0.78747764 0.85438283 0.88944544 0.90304114\n",
      " 0.84615385 0.85008945 0.86368515 0.89481216 0.89302326 0.92629696\n",
      " 0.95277281 1.         0.92672312 0.93689835]\n",
      "2 day output [[0.93071795]]\n",
      "3 day input [0.52307692 0.55599284 0.55778175 0.55277281 0.58497317 0.58354204\n",
      " 0.57173524 0.55670841 0.53595707 0.5431127  0.58604651 0.58998211\n",
      " 0.59856887 0.59821109 0.58497317 0.62719141 0.63864043 0.63398927\n",
      " 0.65760286 0.66153846 0.64364937 0.65867621 0.65438283 0.68300537\n",
      " 0.64722719 0.62325581 0.64221825 0.67155635 0.67084079 0.66118068\n",
      " 0.66618962 0.65509839 0.67119857 0.69552773 0.70733453 0.71127013\n",
      " 0.70733453 0.74025045 0.7588551  0.75026834 0.7255814  0.74275492\n",
      " 0.71735242 0.68193202 0.66296959 0.6608229  0.7137746  0.71413238\n",
      " 0.78461538 0.7706619  0.80357782 0.80178891 0.82003578 0.79320215\n",
      " 0.78282648 0.80071556 0.78676208 0.80966011 0.80715564 0.77567084\n",
      " 0.76207513 0.780322   0.81502683 0.79069767 0.82826476 0.83899821\n",
      " 0.84042934 0.85008945 0.84651163 0.87763864 0.82182469 0.78282648\n",
      " 0.75205725 0.74991055 0.7706619  0.79928444 0.77996422 0.78103757\n",
      " 0.82754919 0.87906977 0.87871199 0.89552773 0.75420394 0.76100179\n",
      " 0.78890877 0.78747764 0.85438283 0.88944544 0.90304114 0.84615385\n",
      " 0.85008945 0.86368515 0.89481216 0.89302326 0.92629696 0.95277281\n",
      " 1.         0.92672312 0.93689835 0.93071795]\n",
      "3 day output [[0.9165615]]\n",
      "4 day input [0.55599284 0.55778175 0.55277281 0.58497317 0.58354204 0.57173524\n",
      " 0.55670841 0.53595707 0.5431127  0.58604651 0.58998211 0.59856887\n",
      " 0.59821109 0.58497317 0.62719141 0.63864043 0.63398927 0.65760286\n",
      " 0.66153846 0.64364937 0.65867621 0.65438283 0.68300537 0.64722719\n",
      " 0.62325581 0.64221825 0.67155635 0.67084079 0.66118068 0.66618962\n",
      " 0.65509839 0.67119857 0.69552773 0.70733453 0.71127013 0.70733453\n",
      " 0.74025045 0.7588551  0.75026834 0.7255814  0.74275492 0.71735242\n",
      " 0.68193202 0.66296959 0.6608229  0.7137746  0.71413238 0.78461538\n",
      " 0.7706619  0.80357782 0.80178891 0.82003578 0.79320215 0.78282648\n",
      " 0.80071556 0.78676208 0.80966011 0.80715564 0.77567084 0.76207513\n",
      " 0.780322   0.81502683 0.79069767 0.82826476 0.83899821 0.84042934\n",
      " 0.85008945 0.84651163 0.87763864 0.82182469 0.78282648 0.75205725\n",
      " 0.74991055 0.7706619  0.79928444 0.77996422 0.78103757 0.82754919\n",
      " 0.87906977 0.87871199 0.89552773 0.75420394 0.76100179 0.78890877\n",
      " 0.78747764 0.85438283 0.88944544 0.90304114 0.84615385 0.85008945\n",
      " 0.86368515 0.89481216 0.89302326 0.92629696 0.95277281 1.\n",
      " 0.92672312 0.93689835 0.93071795 0.91656148]\n",
      "4 day output [[0.89969677]]\n",
      "5 day input [0.55778175 0.55277281 0.58497317 0.58354204 0.57173524 0.55670841\n",
      " 0.53595707 0.5431127  0.58604651 0.58998211 0.59856887 0.59821109\n",
      " 0.58497317 0.62719141 0.63864043 0.63398927 0.65760286 0.66153846\n",
      " 0.64364937 0.65867621 0.65438283 0.68300537 0.64722719 0.62325581\n",
      " 0.64221825 0.67155635 0.67084079 0.66118068 0.66618962 0.65509839\n",
      " 0.67119857 0.69552773 0.70733453 0.71127013 0.70733453 0.74025045\n",
      " 0.7588551  0.75026834 0.7255814  0.74275492 0.71735242 0.68193202\n",
      " 0.66296959 0.6608229  0.7137746  0.71413238 0.78461538 0.7706619\n",
      " 0.80357782 0.80178891 0.82003578 0.79320215 0.78282648 0.80071556\n",
      " 0.78676208 0.80966011 0.80715564 0.77567084 0.76207513 0.780322\n",
      " 0.81502683 0.79069767 0.82826476 0.83899821 0.84042934 0.85008945\n",
      " 0.84651163 0.87763864 0.82182469 0.78282648 0.75205725 0.74991055\n",
      " 0.7706619  0.79928444 0.77996422 0.78103757 0.82754919 0.87906977\n",
      " 0.87871199 0.89552773 0.75420394 0.76100179 0.78890877 0.78747764\n",
      " 0.85438283 0.88944544 0.90304114 0.84615385 0.85008945 0.86368515\n",
      " 0.89481216 0.89302326 0.92629696 0.95277281 1.         0.92672312\n",
      " 0.93689835 0.93071795 0.91656148 0.89969677]\n",
      "5 day output [[0.88285303]]\n",
      "6 day input [0.55277281 0.58497317 0.58354204 0.57173524 0.55670841 0.53595707\n",
      " 0.5431127  0.58604651 0.58998211 0.59856887 0.59821109 0.58497317\n",
      " 0.62719141 0.63864043 0.63398927 0.65760286 0.66153846 0.64364937\n",
      " 0.65867621 0.65438283 0.68300537 0.64722719 0.62325581 0.64221825\n",
      " 0.67155635 0.67084079 0.66118068 0.66618962 0.65509839 0.67119857\n",
      " 0.69552773 0.70733453 0.71127013 0.70733453 0.74025045 0.7588551\n",
      " 0.75026834 0.7255814  0.74275492 0.71735242 0.68193202 0.66296959\n",
      " 0.6608229  0.7137746  0.71413238 0.78461538 0.7706619  0.80357782\n",
      " 0.80178891 0.82003578 0.79320215 0.78282648 0.80071556 0.78676208\n",
      " 0.80966011 0.80715564 0.77567084 0.76207513 0.780322   0.81502683\n",
      " 0.79069767 0.82826476 0.83899821 0.84042934 0.85008945 0.84651163\n",
      " 0.87763864 0.82182469 0.78282648 0.75205725 0.74991055 0.7706619\n",
      " 0.79928444 0.77996422 0.78103757 0.82754919 0.87906977 0.87871199\n",
      " 0.89552773 0.75420394 0.76100179 0.78890877 0.78747764 0.85438283\n",
      " 0.88944544 0.90304114 0.84615385 0.85008945 0.86368515 0.89481216\n",
      " 0.89302326 0.92629696 0.95277281 1.         0.92672312 0.93689835\n",
      " 0.93071795 0.91656148 0.89969677 0.88285303]\n",
      "6 day output [[0.86741614]]\n",
      "7 day input [0.58497317 0.58354204 0.57173524 0.55670841 0.53595707 0.5431127\n",
      " 0.58604651 0.58998211 0.59856887 0.59821109 0.58497317 0.62719141\n",
      " 0.63864043 0.63398927 0.65760286 0.66153846 0.64364937 0.65867621\n",
      " 0.65438283 0.68300537 0.64722719 0.62325581 0.64221825 0.67155635\n",
      " 0.67084079 0.66118068 0.66618962 0.65509839 0.67119857 0.69552773\n",
      " 0.70733453 0.71127013 0.70733453 0.74025045 0.7588551  0.75026834\n",
      " 0.7255814  0.74275492 0.71735242 0.68193202 0.66296959 0.6608229\n",
      " 0.7137746  0.71413238 0.78461538 0.7706619  0.80357782 0.80178891\n",
      " 0.82003578 0.79320215 0.78282648 0.80071556 0.78676208 0.80966011\n",
      " 0.80715564 0.77567084 0.76207513 0.780322   0.81502683 0.79069767\n",
      " 0.82826476 0.83899821 0.84042934 0.85008945 0.84651163 0.87763864\n",
      " 0.82182469 0.78282648 0.75205725 0.74991055 0.7706619  0.79928444\n",
      " 0.77996422 0.78103757 0.82754919 0.87906977 0.87871199 0.89552773\n",
      " 0.75420394 0.76100179 0.78890877 0.78747764 0.85438283 0.88944544\n",
      " 0.90304114 0.84615385 0.85008945 0.86368515 0.89481216 0.89302326\n",
      " 0.92629696 0.95277281 1.         0.92672312 0.93689835 0.93071795\n",
      " 0.91656148 0.89969677 0.88285303 0.86741614]\n",
      "7 day output [[0.85411745]]\n",
      "8 day input [0.58354204 0.57173524 0.55670841 0.53595707 0.5431127  0.58604651\n",
      " 0.58998211 0.59856887 0.59821109 0.58497317 0.62719141 0.63864043\n",
      " 0.63398927 0.65760286 0.66153846 0.64364937 0.65867621 0.65438283\n",
      " 0.68300537 0.64722719 0.62325581 0.64221825 0.67155635 0.67084079\n",
      " 0.66118068 0.66618962 0.65509839 0.67119857 0.69552773 0.70733453\n",
      " 0.71127013 0.70733453 0.74025045 0.7588551  0.75026834 0.7255814\n",
      " 0.74275492 0.71735242 0.68193202 0.66296959 0.6608229  0.7137746\n",
      " 0.71413238 0.78461538 0.7706619  0.80357782 0.80178891 0.82003578\n",
      " 0.79320215 0.78282648 0.80071556 0.78676208 0.80966011 0.80715564\n",
      " 0.77567084 0.76207513 0.780322   0.81502683 0.79069767 0.82826476\n",
      " 0.83899821 0.84042934 0.85008945 0.84651163 0.87763864 0.82182469\n",
      " 0.78282648 0.75205725 0.74991055 0.7706619  0.79928444 0.77996422\n",
      " 0.78103757 0.82754919 0.87906977 0.87871199 0.89552773 0.75420394\n",
      " 0.76100179 0.78890877 0.78747764 0.85438283 0.88944544 0.90304114\n",
      " 0.84615385 0.85008945 0.86368515 0.89481216 0.89302326 0.92629696\n",
      " 0.95277281 1.         0.92672312 0.93689835 0.93071795 0.91656148\n",
      " 0.89969677 0.88285303 0.86741614 0.85411745]\n",
      "8 day output [[0.84329677]]\n",
      "9 day input [0.57173524 0.55670841 0.53595707 0.5431127  0.58604651 0.58998211\n",
      " 0.59856887 0.59821109 0.58497317 0.62719141 0.63864043 0.63398927\n",
      " 0.65760286 0.66153846 0.64364937 0.65867621 0.65438283 0.68300537\n",
      " 0.64722719 0.62325581 0.64221825 0.67155635 0.67084079 0.66118068\n",
      " 0.66618962 0.65509839 0.67119857 0.69552773 0.70733453 0.71127013\n",
      " 0.70733453 0.74025045 0.7588551  0.75026834 0.7255814  0.74275492\n",
      " 0.71735242 0.68193202 0.66296959 0.6608229  0.7137746  0.71413238\n",
      " 0.78461538 0.7706619  0.80357782 0.80178891 0.82003578 0.79320215\n",
      " 0.78282648 0.80071556 0.78676208 0.80966011 0.80715564 0.77567084\n",
      " 0.76207513 0.780322   0.81502683 0.79069767 0.82826476 0.83899821\n",
      " 0.84042934 0.85008945 0.84651163 0.87763864 0.82182469 0.78282648\n",
      " 0.75205725 0.74991055 0.7706619  0.79928444 0.77996422 0.78103757\n",
      " 0.82754919 0.87906977 0.87871199 0.89552773 0.75420394 0.76100179\n",
      " 0.78890877 0.78747764 0.85438283 0.88944544 0.90304114 0.84615385\n",
      " 0.85008945 0.86368515 0.89481216 0.89302326 0.92629696 0.95277281\n",
      " 1.         0.92672312 0.93689835 0.93071795 0.91656148 0.89969677\n",
      " 0.88285303 0.86741614 0.85411745 0.84329677]\n",
      "9 day output [[0.83498394]]\n",
      "10 day input [0.55670841 0.53595707 0.5431127  0.58604651 0.58998211 0.59856887\n",
      " 0.59821109 0.58497317 0.62719141 0.63864043 0.63398927 0.65760286\n",
      " 0.66153846 0.64364937 0.65867621 0.65438283 0.68300537 0.64722719\n",
      " 0.62325581 0.64221825 0.67155635 0.67084079 0.66118068 0.66618962\n",
      " 0.65509839 0.67119857 0.69552773 0.70733453 0.71127013 0.70733453\n",
      " 0.74025045 0.7588551  0.75026834 0.7255814  0.74275492 0.71735242\n",
      " 0.68193202 0.66296959 0.6608229  0.7137746  0.71413238 0.78461538\n",
      " 0.7706619  0.80357782 0.80178891 0.82003578 0.79320215 0.78282648\n",
      " 0.80071556 0.78676208 0.80966011 0.80715564 0.77567084 0.76207513\n",
      " 0.780322   0.81502683 0.79069767 0.82826476 0.83899821 0.84042934\n",
      " 0.85008945 0.84651163 0.87763864 0.82182469 0.78282648 0.75205725\n",
      " 0.74991055 0.7706619  0.79928444 0.77996422 0.78103757 0.82754919\n",
      " 0.87906977 0.87871199 0.89552773 0.75420394 0.76100179 0.78890877\n",
      " 0.78747764 0.85438283 0.88944544 0.90304114 0.84615385 0.85008945\n",
      " 0.86368515 0.89481216 0.89302326 0.92629696 0.95277281 1.\n",
      " 0.92672312 0.93689835 0.93071795 0.91656148 0.89969677 0.88285303\n",
      " 0.86741614 0.85411745 0.84329677 0.83498394]\n",
      "10 day output [[0.828951]]\n",
      "11 day input [0.53595707 0.5431127  0.58604651 0.58998211 0.59856887 0.59821109\n",
      " 0.58497317 0.62719141 0.63864043 0.63398927 0.65760286 0.66153846\n",
      " 0.64364937 0.65867621 0.65438283 0.68300537 0.64722719 0.62325581\n",
      " 0.64221825 0.67155635 0.67084079 0.66118068 0.66618962 0.65509839\n",
      " 0.67119857 0.69552773 0.70733453 0.71127013 0.70733453 0.74025045\n",
      " 0.7588551  0.75026834 0.7255814  0.74275492 0.71735242 0.68193202\n",
      " 0.66296959 0.6608229  0.7137746  0.71413238 0.78461538 0.7706619\n",
      " 0.80357782 0.80178891 0.82003578 0.79320215 0.78282648 0.80071556\n",
      " 0.78676208 0.80966011 0.80715564 0.77567084 0.76207513 0.780322\n",
      " 0.81502683 0.79069767 0.82826476 0.83899821 0.84042934 0.85008945\n",
      " 0.84651163 0.87763864 0.82182469 0.78282648 0.75205725 0.74991055\n",
      " 0.7706619  0.79928444 0.77996422 0.78103757 0.82754919 0.87906977\n",
      " 0.87871199 0.89552773 0.75420394 0.76100179 0.78890877 0.78747764\n",
      " 0.85438283 0.88944544 0.90304114 0.84615385 0.85008945 0.86368515\n",
      " 0.89481216 0.89302326 0.92629696 0.95277281 1.         0.92672312\n",
      " 0.93689835 0.93071795 0.91656148 0.89969677 0.88285303 0.86741614\n",
      " 0.85411745 0.84329677 0.83498394 0.828951  ]\n",
      "11 day output [[0.82477826]]\n",
      "12 day input [0.5431127  0.58604651 0.58998211 0.59856887 0.59821109 0.58497317\n",
      " 0.62719141 0.63864043 0.63398927 0.65760286 0.66153846 0.64364937\n",
      " 0.65867621 0.65438283 0.68300537 0.64722719 0.62325581 0.64221825\n",
      " 0.67155635 0.67084079 0.66118068 0.66618962 0.65509839 0.67119857\n",
      " 0.69552773 0.70733453 0.71127013 0.70733453 0.74025045 0.7588551\n",
      " 0.75026834 0.7255814  0.74275492 0.71735242 0.68193202 0.66296959\n",
      " 0.6608229  0.7137746  0.71413238 0.78461538 0.7706619  0.80357782\n",
      " 0.80178891 0.82003578 0.79320215 0.78282648 0.80071556 0.78676208\n",
      " 0.80966011 0.80715564 0.77567084 0.76207513 0.780322   0.81502683\n",
      " 0.79069767 0.82826476 0.83899821 0.84042934 0.85008945 0.84651163\n",
      " 0.87763864 0.82182469 0.78282648 0.75205725 0.74991055 0.7706619\n",
      " 0.79928444 0.77996422 0.78103757 0.82754919 0.87906977 0.87871199\n",
      " 0.89552773 0.75420394 0.76100179 0.78890877 0.78747764 0.85438283\n",
      " 0.88944544 0.90304114 0.84615385 0.85008945 0.86368515 0.89481216\n",
      " 0.89302326 0.92629696 0.95277281 1.         0.92672312 0.93689835\n",
      " 0.93071795 0.91656148 0.89969677 0.88285303 0.86741614 0.85411745\n",
      " 0.84329677 0.83498394 0.828951   0.82477826]\n",
      "12 day output [[0.82193124]]\n",
      "13 day input [0.58604651 0.58998211 0.59856887 0.59821109 0.58497317 0.62719141\n",
      " 0.63864043 0.63398927 0.65760286 0.66153846 0.64364937 0.65867621\n",
      " 0.65438283 0.68300537 0.64722719 0.62325581 0.64221825 0.67155635\n",
      " 0.67084079 0.66118068 0.66618962 0.65509839 0.67119857 0.69552773\n",
      " 0.70733453 0.71127013 0.70733453 0.74025045 0.7588551  0.75026834\n",
      " 0.7255814  0.74275492 0.71735242 0.68193202 0.66296959 0.6608229\n",
      " 0.7137746  0.71413238 0.78461538 0.7706619  0.80357782 0.80178891\n",
      " 0.82003578 0.79320215 0.78282648 0.80071556 0.78676208 0.80966011\n",
      " 0.80715564 0.77567084 0.76207513 0.780322   0.81502683 0.79069767\n",
      " 0.82826476 0.83899821 0.84042934 0.85008945 0.84651163 0.87763864\n",
      " 0.82182469 0.78282648 0.75205725 0.74991055 0.7706619  0.79928444\n",
      " 0.77996422 0.78103757 0.82754919 0.87906977 0.87871199 0.89552773\n",
      " 0.75420394 0.76100179 0.78890877 0.78747764 0.85438283 0.88944544\n",
      " 0.90304114 0.84615385 0.85008945 0.86368515 0.89481216 0.89302326\n",
      " 0.92629696 0.95277281 1.         0.92672312 0.93689835 0.93071795\n",
      " 0.91656148 0.89969677 0.88285303 0.86741614 0.85411745 0.84329677\n",
      " 0.83498394 0.828951   0.82477826 0.82193124]\n",
      "13 day output [[0.81984085]]\n",
      "14 day input [0.58998211 0.59856887 0.59821109 0.58497317 0.62719141 0.63864043\n",
      " 0.63398927 0.65760286 0.66153846 0.64364937 0.65867621 0.65438283\n",
      " 0.68300537 0.64722719 0.62325581 0.64221825 0.67155635 0.67084079\n",
      " 0.66118068 0.66618962 0.65509839 0.67119857 0.69552773 0.70733453\n",
      " 0.71127013 0.70733453 0.74025045 0.7588551  0.75026834 0.7255814\n",
      " 0.74275492 0.71735242 0.68193202 0.66296959 0.6608229  0.7137746\n",
      " 0.71413238 0.78461538 0.7706619  0.80357782 0.80178891 0.82003578\n",
      " 0.79320215 0.78282648 0.80071556 0.78676208 0.80966011 0.80715564\n",
      " 0.77567084 0.76207513 0.780322   0.81502683 0.79069767 0.82826476\n",
      " 0.83899821 0.84042934 0.85008945 0.84651163 0.87763864 0.82182469\n",
      " 0.78282648 0.75205725 0.74991055 0.7706619  0.79928444 0.77996422\n",
      " 0.78103757 0.82754919 0.87906977 0.87871199 0.89552773 0.75420394\n",
      " 0.76100179 0.78890877 0.78747764 0.85438283 0.88944544 0.90304114\n",
      " 0.84615385 0.85008945 0.86368515 0.89481216 0.89302326 0.92629696\n",
      " 0.95277281 1.         0.92672312 0.93689835 0.93071795 0.91656148\n",
      " 0.89969677 0.88285303 0.86741614 0.85411745 0.84329677 0.83498394\n",
      " 0.828951   0.82477826 0.82193124 0.81984085]\n",
      "14 day output [[0.81796783]]\n",
      "15 day input [0.59856887 0.59821109 0.58497317 0.62719141 0.63864043 0.63398927\n",
      " 0.65760286 0.66153846 0.64364937 0.65867621 0.65438283 0.68300537\n",
      " 0.64722719 0.62325581 0.64221825 0.67155635 0.67084079 0.66118068\n",
      " 0.66618962 0.65509839 0.67119857 0.69552773 0.70733453 0.71127013\n",
      " 0.70733453 0.74025045 0.7588551  0.75026834 0.7255814  0.74275492\n",
      " 0.71735242 0.68193202 0.66296959 0.6608229  0.7137746  0.71413238\n",
      " 0.78461538 0.7706619  0.80357782 0.80178891 0.82003578 0.79320215\n",
      " 0.78282648 0.80071556 0.78676208 0.80966011 0.80715564 0.77567084\n",
      " 0.76207513 0.780322   0.81502683 0.79069767 0.82826476 0.83899821\n",
      " 0.84042934 0.85008945 0.84651163 0.87763864 0.82182469 0.78282648\n",
      " 0.75205725 0.74991055 0.7706619  0.79928444 0.77996422 0.78103757\n",
      " 0.82754919 0.87906977 0.87871199 0.89552773 0.75420394 0.76100179\n",
      " 0.78890877 0.78747764 0.85438283 0.88944544 0.90304114 0.84615385\n",
      " 0.85008945 0.86368515 0.89481216 0.89302326 0.92629696 0.95277281\n",
      " 1.         0.92672312 0.93689835 0.93071795 0.91656148 0.89969677\n",
      " 0.88285303 0.86741614 0.85411745 0.84329677 0.83498394 0.828951\n",
      " 0.82477826 0.82193124 0.81984085 0.81796783]\n",
      "15 day output [[0.8158552]]\n",
      "16 day input [0.59821109 0.58497317 0.62719141 0.63864043 0.63398927 0.65760286\n",
      " 0.66153846 0.64364937 0.65867621 0.65438283 0.68300537 0.64722719\n",
      " 0.62325581 0.64221825 0.67155635 0.67084079 0.66118068 0.66618962\n",
      " 0.65509839 0.67119857 0.69552773 0.70733453 0.71127013 0.70733453\n",
      " 0.74025045 0.7588551  0.75026834 0.7255814  0.74275492 0.71735242\n",
      " 0.68193202 0.66296959 0.6608229  0.7137746  0.71413238 0.78461538\n",
      " 0.7706619  0.80357782 0.80178891 0.82003578 0.79320215 0.78282648\n",
      " 0.80071556 0.78676208 0.80966011 0.80715564 0.77567084 0.76207513\n",
      " 0.780322   0.81502683 0.79069767 0.82826476 0.83899821 0.84042934\n",
      " 0.85008945 0.84651163 0.87763864 0.82182469 0.78282648 0.75205725\n",
      " 0.74991055 0.7706619  0.79928444 0.77996422 0.78103757 0.82754919\n",
      " 0.87906977 0.87871199 0.89552773 0.75420394 0.76100179 0.78890877\n",
      " 0.78747764 0.85438283 0.88944544 0.90304114 0.84615385 0.85008945\n",
      " 0.86368515 0.89481216 0.89302326 0.92629696 0.95277281 1.\n",
      " 0.92672312 0.93689835 0.93071795 0.91656148 0.89969677 0.88285303\n",
      " 0.86741614 0.85411745 0.84329677 0.83498394 0.828951   0.82477826\n",
      " 0.82193124 0.81984085 0.81796783 0.81585521]\n",
      "16 day output [[0.81316096]]\n",
      "17 day input [0.58497317 0.62719141 0.63864043 0.63398927 0.65760286 0.66153846\n",
      " 0.64364937 0.65867621 0.65438283 0.68300537 0.64722719 0.62325581\n",
      " 0.64221825 0.67155635 0.67084079 0.66118068 0.66618962 0.65509839\n",
      " 0.67119857 0.69552773 0.70733453 0.71127013 0.70733453 0.74025045\n",
      " 0.7588551  0.75026834 0.7255814  0.74275492 0.71735242 0.68193202\n",
      " 0.66296959 0.6608229  0.7137746  0.71413238 0.78461538 0.7706619\n",
      " 0.80357782 0.80178891 0.82003578 0.79320215 0.78282648 0.80071556\n",
      " 0.78676208 0.80966011 0.80715564 0.77567084 0.76207513 0.780322\n",
      " 0.81502683 0.79069767 0.82826476 0.83899821 0.84042934 0.85008945\n",
      " 0.84651163 0.87763864 0.82182469 0.78282648 0.75205725 0.74991055\n",
      " 0.7706619  0.79928444 0.77996422 0.78103757 0.82754919 0.87906977\n",
      " 0.87871199 0.89552773 0.75420394 0.76100179 0.78890877 0.78747764\n",
      " 0.85438283 0.88944544 0.90304114 0.84615385 0.85008945 0.86368515\n",
      " 0.89481216 0.89302326 0.92629696 0.95277281 1.         0.92672312\n",
      " 0.93689835 0.93071795 0.91656148 0.89969677 0.88285303 0.86741614\n",
      " 0.85411745 0.84329677 0.83498394 0.828951   0.82477826 0.82193124\n",
      " 0.81984085 0.81796783 0.81585521 0.81316096]\n",
      "17 day output [[0.80967396]]\n",
      "18 day input [0.62719141 0.63864043 0.63398927 0.65760286 0.66153846 0.64364937\n",
      " 0.65867621 0.65438283 0.68300537 0.64722719 0.62325581 0.64221825\n",
      " 0.67155635 0.67084079 0.66118068 0.66618962 0.65509839 0.67119857\n",
      " 0.69552773 0.70733453 0.71127013 0.70733453 0.74025045 0.7588551\n",
      " 0.75026834 0.7255814  0.74275492 0.71735242 0.68193202 0.66296959\n",
      " 0.6608229  0.7137746  0.71413238 0.78461538 0.7706619  0.80357782\n",
      " 0.80178891 0.82003578 0.79320215 0.78282648 0.80071556 0.78676208\n",
      " 0.80966011 0.80715564 0.77567084 0.76207513 0.780322   0.81502683\n",
      " 0.79069767 0.82826476 0.83899821 0.84042934 0.85008945 0.84651163\n",
      " 0.87763864 0.82182469 0.78282648 0.75205725 0.74991055 0.7706619\n",
      " 0.79928444 0.77996422 0.78103757 0.82754919 0.87906977 0.87871199\n",
      " 0.89552773 0.75420394 0.76100179 0.78890877 0.78747764 0.85438283\n",
      " 0.88944544 0.90304114 0.84615385 0.85008945 0.86368515 0.89481216\n",
      " 0.89302326 0.92629696 0.95277281 1.         0.92672312 0.93689835\n",
      " 0.93071795 0.91656148 0.89969677 0.88285303 0.86741614 0.85411745\n",
      " 0.84329677 0.83498394 0.828951   0.82477826 0.82193124 0.81984085\n",
      " 0.81796783 0.81585521 0.81316096 0.80967396]\n",
      "18 day output [[0.8053132]]\n",
      "19 day input [0.63864043 0.63398927 0.65760286 0.66153846 0.64364937 0.65867621\n",
      " 0.65438283 0.68300537 0.64722719 0.62325581 0.64221825 0.67155635\n",
      " 0.67084079 0.66118068 0.66618962 0.65509839 0.67119857 0.69552773\n",
      " 0.70733453 0.71127013 0.70733453 0.74025045 0.7588551  0.75026834\n",
      " 0.7255814  0.74275492 0.71735242 0.68193202 0.66296959 0.6608229\n",
      " 0.7137746  0.71413238 0.78461538 0.7706619  0.80357782 0.80178891\n",
      " 0.82003578 0.79320215 0.78282648 0.80071556 0.78676208 0.80966011\n",
      " 0.80715564 0.77567084 0.76207513 0.780322   0.81502683 0.79069767\n",
      " 0.82826476 0.83899821 0.84042934 0.85008945 0.84651163 0.87763864\n",
      " 0.82182469 0.78282648 0.75205725 0.74991055 0.7706619  0.79928444\n",
      " 0.77996422 0.78103757 0.82754919 0.87906977 0.87871199 0.89552773\n",
      " 0.75420394 0.76100179 0.78890877 0.78747764 0.85438283 0.88944544\n",
      " 0.90304114 0.84615385 0.85008945 0.86368515 0.89481216 0.89302326\n",
      " 0.92629696 0.95277281 1.         0.92672312 0.93689835 0.93071795\n",
      " 0.91656148 0.89969677 0.88285303 0.86741614 0.85411745 0.84329677\n",
      " 0.83498394 0.828951   0.82477826 0.82193124 0.81984085 0.81796783\n",
      " 0.81585521 0.81316096 0.80967396 0.80531323]\n",
      "19 day output [[0.8001159]]\n",
      "20 day input [0.63398927 0.65760286 0.66153846 0.64364937 0.65867621 0.65438283\n",
      " 0.68300537 0.64722719 0.62325581 0.64221825 0.67155635 0.67084079\n",
      " 0.66118068 0.66618962 0.65509839 0.67119857 0.69552773 0.70733453\n",
      " 0.71127013 0.70733453 0.74025045 0.7588551  0.75026834 0.7255814\n",
      " 0.74275492 0.71735242 0.68193202 0.66296959 0.6608229  0.7137746\n",
      " 0.71413238 0.78461538 0.7706619  0.80357782 0.80178891 0.82003578\n",
      " 0.79320215 0.78282648 0.80071556 0.78676208 0.80966011 0.80715564\n",
      " 0.77567084 0.76207513 0.780322   0.81502683 0.79069767 0.82826476\n",
      " 0.83899821 0.84042934 0.85008945 0.84651163 0.87763864 0.82182469\n",
      " 0.78282648 0.75205725 0.74991055 0.7706619  0.79928444 0.77996422\n",
      " 0.78103757 0.82754919 0.87906977 0.87871199 0.89552773 0.75420394\n",
      " 0.76100179 0.78890877 0.78747764 0.85438283 0.88944544 0.90304114\n",
      " 0.84615385 0.85008945 0.86368515 0.89481216 0.89302326 0.92629696\n",
      " 0.95277281 1.         0.92672312 0.93689835 0.93071795 0.91656148\n",
      " 0.89969677 0.88285303 0.86741614 0.85411745 0.84329677 0.83498394\n",
      " 0.828951   0.82477826 0.82193124 0.81984085 0.81796783 0.81585521\n",
      " 0.81316096 0.80967396 0.80531323 0.80011588]\n",
      "20 day output [[0.7942127]]\n",
      "21 day input [0.65760286 0.66153846 0.64364937 0.65867621 0.65438283 0.68300537\n",
      " 0.64722719 0.62325581 0.64221825 0.67155635 0.67084079 0.66118068\n",
      " 0.66618962 0.65509839 0.67119857 0.69552773 0.70733453 0.71127013\n",
      " 0.70733453 0.74025045 0.7588551  0.75026834 0.7255814  0.74275492\n",
      " 0.71735242 0.68193202 0.66296959 0.6608229  0.7137746  0.71413238\n",
      " 0.78461538 0.7706619  0.80357782 0.80178891 0.82003578 0.79320215\n",
      " 0.78282648 0.80071556 0.78676208 0.80966011 0.80715564 0.77567084\n",
      " 0.76207513 0.780322   0.81502683 0.79069767 0.82826476 0.83899821\n",
      " 0.84042934 0.85008945 0.84651163 0.87763864 0.82182469 0.78282648\n",
      " 0.75205725 0.74991055 0.7706619  0.79928444 0.77996422 0.78103757\n",
      " 0.82754919 0.87906977 0.87871199 0.89552773 0.75420394 0.76100179\n",
      " 0.78890877 0.78747764 0.85438283 0.88944544 0.90304114 0.84615385\n",
      " 0.85008945 0.86368515 0.89481216 0.89302326 0.92629696 0.95277281\n",
      " 1.         0.92672312 0.93689835 0.93071795 0.91656148 0.89969677\n",
      " 0.88285303 0.86741614 0.85411745 0.84329677 0.83498394 0.828951\n",
      " 0.82477826 0.82193124 0.81984085 0.81796783 0.81585521 0.81316096\n",
      " 0.80967396 0.80531323 0.80011588 0.7942127 ]\n",
      "21 day output [[0.7877979]]\n",
      "22 day input [0.66153846 0.64364937 0.65867621 0.65438283 0.68300537 0.64722719\n",
      " 0.62325581 0.64221825 0.67155635 0.67084079 0.66118068 0.66618962\n",
      " 0.65509839 0.67119857 0.69552773 0.70733453 0.71127013 0.70733453\n",
      " 0.74025045 0.7588551  0.75026834 0.7255814  0.74275492 0.71735242\n",
      " 0.68193202 0.66296959 0.6608229  0.7137746  0.71413238 0.78461538\n",
      " 0.7706619  0.80357782 0.80178891 0.82003578 0.79320215 0.78282648\n",
      " 0.80071556 0.78676208 0.80966011 0.80715564 0.77567084 0.76207513\n",
      " 0.780322   0.81502683 0.79069767 0.82826476 0.83899821 0.84042934\n",
      " 0.85008945 0.84651163 0.87763864 0.82182469 0.78282648 0.75205725\n",
      " 0.74991055 0.7706619  0.79928444 0.77996422 0.78103757 0.82754919\n",
      " 0.87906977 0.87871199 0.89552773 0.75420394 0.76100179 0.78890877\n",
      " 0.78747764 0.85438283 0.88944544 0.90304114 0.84615385 0.85008945\n",
      " 0.86368515 0.89481216 0.89302326 0.92629696 0.95277281 1.\n",
      " 0.92672312 0.93689835 0.93071795 0.91656148 0.89969677 0.88285303\n",
      " 0.86741614 0.85411745 0.84329677 0.83498394 0.828951   0.82477826\n",
      " 0.82193124 0.81984085 0.81796783 0.81585521 0.81316096 0.80967396\n",
      " 0.80531323 0.80011588 0.7942127  0.78779793]\n",
      "22 day output [[0.78109884]]\n",
      "23 day input [0.64364937 0.65867621 0.65438283 0.68300537 0.64722719 0.62325581\n",
      " 0.64221825 0.67155635 0.67084079 0.66118068 0.66618962 0.65509839\n",
      " 0.67119857 0.69552773 0.70733453 0.71127013 0.70733453 0.74025045\n",
      " 0.7588551  0.75026834 0.7255814  0.74275492 0.71735242 0.68193202\n",
      " 0.66296959 0.6608229  0.7137746  0.71413238 0.78461538 0.7706619\n",
      " 0.80357782 0.80178891 0.82003578 0.79320215 0.78282648 0.80071556\n",
      " 0.78676208 0.80966011 0.80715564 0.77567084 0.76207513 0.780322\n",
      " 0.81502683 0.79069767 0.82826476 0.83899821 0.84042934 0.85008945\n",
      " 0.84651163 0.87763864 0.82182469 0.78282648 0.75205725 0.74991055\n",
      " 0.7706619  0.79928444 0.77996422 0.78103757 0.82754919 0.87906977\n",
      " 0.87871199 0.89552773 0.75420394 0.76100179 0.78890877 0.78747764\n",
      " 0.85438283 0.88944544 0.90304114 0.84615385 0.85008945 0.86368515\n",
      " 0.89481216 0.89302326 0.92629696 0.95277281 1.         0.92672312\n",
      " 0.93689835 0.93071795 0.91656148 0.89969677 0.88285303 0.86741614\n",
      " 0.85411745 0.84329677 0.83498394 0.828951   0.82477826 0.82193124\n",
      " 0.81984085 0.81796783 0.81585521 0.81316096 0.80967396 0.80531323\n",
      " 0.80011588 0.7942127  0.78779793 0.78109884]\n",
      "23 day output [[0.77434534]]\n",
      "24 day input [0.65867621 0.65438283 0.68300537 0.64722719 0.62325581 0.64221825\n",
      " 0.67155635 0.67084079 0.66118068 0.66618962 0.65509839 0.67119857\n",
      " 0.69552773 0.70733453 0.71127013 0.70733453 0.74025045 0.7588551\n",
      " 0.75026834 0.7255814  0.74275492 0.71735242 0.68193202 0.66296959\n",
      " 0.6608229  0.7137746  0.71413238 0.78461538 0.7706619  0.80357782\n",
      " 0.80178891 0.82003578 0.79320215 0.78282648 0.80071556 0.78676208\n",
      " 0.80966011 0.80715564 0.77567084 0.76207513 0.780322   0.81502683\n",
      " 0.79069767 0.82826476 0.83899821 0.84042934 0.85008945 0.84651163\n",
      " 0.87763864 0.82182469 0.78282648 0.75205725 0.74991055 0.7706619\n",
      " 0.79928444 0.77996422 0.78103757 0.82754919 0.87906977 0.87871199\n",
      " 0.89552773 0.75420394 0.76100179 0.78890877 0.78747764 0.85438283\n",
      " 0.88944544 0.90304114 0.84615385 0.85008945 0.86368515 0.89481216\n",
      " 0.89302326 0.92629696 0.95277281 1.         0.92672312 0.93689835\n",
      " 0.93071795 0.91656148 0.89969677 0.88285303 0.86741614 0.85411745\n",
      " 0.84329677 0.83498394 0.828951   0.82477826 0.82193124 0.81984085\n",
      " 0.81796783 0.81585521 0.81316096 0.80967396 0.80531323 0.80011588\n",
      " 0.7942127  0.78779793 0.78109884 0.77434534]\n",
      "24 day output [[0.76774603]]\n",
      "25 day input [0.65438283 0.68300537 0.64722719 0.62325581 0.64221825 0.67155635\n",
      " 0.67084079 0.66118068 0.66618962 0.65509839 0.67119857 0.69552773\n",
      " 0.70733453 0.71127013 0.70733453 0.74025045 0.7588551  0.75026834\n",
      " 0.7255814  0.74275492 0.71735242 0.68193202 0.66296959 0.6608229\n",
      " 0.7137746  0.71413238 0.78461538 0.7706619  0.80357782 0.80178891\n",
      " 0.82003578 0.79320215 0.78282648 0.80071556 0.78676208 0.80966011\n",
      " 0.80715564 0.77567084 0.76207513 0.780322   0.81502683 0.79069767\n",
      " 0.82826476 0.83899821 0.84042934 0.85008945 0.84651163 0.87763864\n",
      " 0.82182469 0.78282648 0.75205725 0.74991055 0.7706619  0.79928444\n",
      " 0.77996422 0.78103757 0.82754919 0.87906977 0.87871199 0.89552773\n",
      " 0.75420394 0.76100179 0.78890877 0.78747764 0.85438283 0.88944544\n",
      " 0.90304114 0.84615385 0.85008945 0.86368515 0.89481216 0.89302326\n",
      " 0.92629696 0.95277281 1.         0.92672312 0.93689835 0.93071795\n",
      " 0.91656148 0.89969677 0.88285303 0.86741614 0.85411745 0.84329677\n",
      " 0.83498394 0.828951   0.82477826 0.82193124 0.81984085 0.81796783\n",
      " 0.81585521 0.81316096 0.80967396 0.80531323 0.80011588 0.7942127\n",
      " 0.78779793 0.78109884 0.77434534 0.76774603]\n",
      "25 day output [[0.7614697]]\n",
      "26 day input [0.68300537 0.64722719 0.62325581 0.64221825 0.67155635 0.67084079\n",
      " 0.66118068 0.66618962 0.65509839 0.67119857 0.69552773 0.70733453\n",
      " 0.71127013 0.70733453 0.74025045 0.7588551  0.75026834 0.7255814\n",
      " 0.74275492 0.71735242 0.68193202 0.66296959 0.6608229  0.7137746\n",
      " 0.71413238 0.78461538 0.7706619  0.80357782 0.80178891 0.82003578\n",
      " 0.79320215 0.78282648 0.80071556 0.78676208 0.80966011 0.80715564\n",
      " 0.77567084 0.76207513 0.780322   0.81502683 0.79069767 0.82826476\n",
      " 0.83899821 0.84042934 0.85008945 0.84651163 0.87763864 0.82182469\n",
      " 0.78282648 0.75205725 0.74991055 0.7706619  0.79928444 0.77996422\n",
      " 0.78103757 0.82754919 0.87906977 0.87871199 0.89552773 0.75420394\n",
      " 0.76100179 0.78890877 0.78747764 0.85438283 0.88944544 0.90304114\n",
      " 0.84615385 0.85008945 0.86368515 0.89481216 0.89302326 0.92629696\n",
      " 0.95277281 1.         0.92672312 0.93689835 0.93071795 0.91656148\n",
      " 0.89969677 0.88285303 0.86741614 0.85411745 0.84329677 0.83498394\n",
      " 0.828951   0.82477826 0.82193124 0.81984085 0.81796783 0.81585521\n",
      " 0.81316096 0.80967396 0.80531323 0.80011588 0.7942127  0.78779793\n",
      " 0.78109884 0.77434534 0.76774603 0.76146972]\n",
      "26 day output [[0.75563425]]\n",
      "27 day input [0.64722719 0.62325581 0.64221825 0.67155635 0.67084079 0.66118068\n",
      " 0.66618962 0.65509839 0.67119857 0.69552773 0.70733453 0.71127013\n",
      " 0.70733453 0.74025045 0.7588551  0.75026834 0.7255814  0.74275492\n",
      " 0.71735242 0.68193202 0.66296959 0.6608229  0.7137746  0.71413238\n",
      " 0.78461538 0.7706619  0.80357782 0.80178891 0.82003578 0.79320215\n",
      " 0.78282648 0.80071556 0.78676208 0.80966011 0.80715564 0.77567084\n",
      " 0.76207513 0.780322   0.81502683 0.79069767 0.82826476 0.83899821\n",
      " 0.84042934 0.85008945 0.84651163 0.87763864 0.82182469 0.78282648\n",
      " 0.75205725 0.74991055 0.7706619  0.79928444 0.77996422 0.78103757\n",
      " 0.82754919 0.87906977 0.87871199 0.89552773 0.75420394 0.76100179\n",
      " 0.78890877 0.78747764 0.85438283 0.88944544 0.90304114 0.84615385\n",
      " 0.85008945 0.86368515 0.89481216 0.89302326 0.92629696 0.95277281\n",
      " 1.         0.92672312 0.93689835 0.93071795 0.91656148 0.89969677\n",
      " 0.88285303 0.86741614 0.85411745 0.84329677 0.83498394 0.828951\n",
      " 0.82477826 0.82193124 0.81984085 0.81796783 0.81585521 0.81316096\n",
      " 0.80967396 0.80531323 0.80011588 0.7942127  0.78779793 0.78109884\n",
      " 0.77434534 0.76774603 0.76146972 0.75563425]\n",
      "27 day output [[0.750305]]\n",
      "28 day input [0.62325581 0.64221825 0.67155635 0.67084079 0.66118068 0.66618962\n",
      " 0.65509839 0.67119857 0.69552773 0.70733453 0.71127013 0.70733453\n",
      " 0.74025045 0.7588551  0.75026834 0.7255814  0.74275492 0.71735242\n",
      " 0.68193202 0.66296959 0.6608229  0.7137746  0.71413238 0.78461538\n",
      " 0.7706619  0.80357782 0.80178891 0.82003578 0.79320215 0.78282648\n",
      " 0.80071556 0.78676208 0.80966011 0.80715564 0.77567084 0.76207513\n",
      " 0.780322   0.81502683 0.79069767 0.82826476 0.83899821 0.84042934\n",
      " 0.85008945 0.84651163 0.87763864 0.82182469 0.78282648 0.75205725\n",
      " 0.74991055 0.7706619  0.79928444 0.77996422 0.78103757 0.82754919\n",
      " 0.87906977 0.87871199 0.89552773 0.75420394 0.76100179 0.78890877\n",
      " 0.78747764 0.85438283 0.88944544 0.90304114 0.84615385 0.85008945\n",
      " 0.86368515 0.89481216 0.89302326 0.92629696 0.95277281 1.\n",
      " 0.92672312 0.93689835 0.93071795 0.91656148 0.89969677 0.88285303\n",
      " 0.86741614 0.85411745 0.84329677 0.83498394 0.828951   0.82477826\n",
      " 0.82193124 0.81984085 0.81796783 0.81585521 0.81316096 0.80967396\n",
      " 0.80531323 0.80011588 0.7942127  0.78779793 0.78109884 0.77434534\n",
      " 0.76774603 0.76146972 0.75563425 0.750305  ]\n",
      "28 day output [[0.74549675]]\n",
      "29 day input [0.64221825 0.67155635 0.67084079 0.66118068 0.66618962 0.65509839\n",
      " 0.67119857 0.69552773 0.70733453 0.71127013 0.70733453 0.74025045\n",
      " 0.7588551  0.75026834 0.7255814  0.74275492 0.71735242 0.68193202\n",
      " 0.66296959 0.6608229  0.7137746  0.71413238 0.78461538 0.7706619\n",
      " 0.80357782 0.80178891 0.82003578 0.79320215 0.78282648 0.80071556\n",
      " 0.78676208 0.80966011 0.80715564 0.77567084 0.76207513 0.780322\n",
      " 0.81502683 0.79069767 0.82826476 0.83899821 0.84042934 0.85008945\n",
      " 0.84651163 0.87763864 0.82182469 0.78282648 0.75205725 0.74991055\n",
      " 0.7706619  0.79928444 0.77996422 0.78103757 0.82754919 0.87906977\n",
      " 0.87871199 0.89552773 0.75420394 0.76100179 0.78890877 0.78747764\n",
      " 0.85438283 0.88944544 0.90304114 0.84615385 0.85008945 0.86368515\n",
      " 0.89481216 0.89302326 0.92629696 0.95277281 1.         0.92672312\n",
      " 0.93689835 0.93071795 0.91656148 0.89969677 0.88285303 0.86741614\n",
      " 0.85411745 0.84329677 0.83498394 0.828951   0.82477826 0.82193124\n",
      " 0.81984085 0.81796783 0.81585521 0.81316096 0.80967396 0.80531323\n",
      " 0.80011588 0.7942127  0.78779793 0.78109884 0.77434534 0.76774603\n",
      " 0.76146972 0.75563425 0.750305   0.74549675]\n",
      "29 day output [[0.7411823]]\n",
      "[[0.9267231225967407], [0.9368983507156372], [0.930717945098877], [0.916561484336853], [0.8996967673301697], [0.8828530311584473], [0.8674161434173584], [0.8541174530982971], [0.8432967662811279], [0.8349839448928833], [0.8289510011672974], [0.8247782588005066], [0.8219312429428101], [0.8198408484458923], [0.8179678320884705], [0.8158552050590515], [0.8131609559059143], [0.8096739649772644], [0.805313229560852], [0.8001158833503723], [0.7942126989364624], [0.7877979278564453], [0.7810988426208496], [0.774345338344574], [0.7677460312843323], [0.7614697217941284], [0.7556342482566833], [0.7503049969673157], [0.7454967498779297], [0.7411823272705078]]\n"
     ]
    }
   ],
   "source": [
    "lst_output = []\n",
    "n_steps = 100\n",
    "i = 0\n",
    "while(i<30):\n",
    "    if (len(temp_input)>100):\n",
    "        x_input=np.array(temp_input[1:])\n",
    "        print(\"{} day input {}\".format(i,x_input))\n",
    "        x_input = x_input.reshape(1,-1)\n",
    "        x_input = x_input.reshape((1,n_steps,1))\n",
    "        y_hat = model.predict(x_input, verbose=0)\n",
    "        print(\"{} day output {}\".format(i, y_hat))\n",
    "        temp_input.extend(y_hat[0].tolist())\n",
    "        temp_input = temp_input[1:]\n",
    "        lst_output.extend(y_hat.tolist())\n",
    "        i = i + 1\n",
    "    else:\n",
    "        x_input = x_input.reshape((1,n_steps,1))\n",
    "        y_hat = model.predict(x_input, verbose=0)\n",
    "        print(y_hat[0])\n",
    "        temp_input.extend(y_hat[0].tolist())\n",
    "        print(len(temp_input))\n",
    "        lst_output.extend(y_hat.tolist())\n",
    "        i = i + 1\n",
    "        \n",
    "print(lst_output)"
   ]
  },
  {
   "cell_type": "code",
   "execution_count": 27,
   "metadata": {},
   "outputs": [
    {
     "data": {
      "text/plain": [
       "1259"
      ]
     },
     "execution_count": 27,
     "metadata": {},
     "output_type": "execute_result"
    }
   ],
   "source": [
    "day_new = np.arange(1,101)\n",
    "day_pred = np.arange(101,131)\n",
    "len(df1)"
   ]
  },
  {
   "cell_type": "code",
   "execution_count": 38,
   "metadata": {},
   "outputs": [
    {
     "data": {
      "text/plain": [
       "[<matplotlib.lines.Line2D at 0x20cc517bdf0>]"
      ]
     },
     "execution_count": 38,
     "metadata": {},
     "output_type": "execute_result"
    },
    {
     "data": {
      "image/png": "[encoded data removed]",
      "text/plain": [
       "<Figure size 432x288 with 1 Axes>"
      ]
     },
     "metadata": {
      "needs_background": "light"
     },
     "output_type": "display_data"
    }
   ],
   "source": [
    "df3 = df1.tolist()\n",
    "df3.extend(lst_output)\n",
    "\n",
    "plt.plot(day_new, scaler.inverse_transform(df1[1159:]))\n",
    "plt.plot(day_pred, scaler.inverse_transform(lst_output))"
   ]
  },
  {
   "cell_type": "code",
   "execution_count": 42,
   "metadata": {},
   "outputs": [
    {
     "data": {
      "text/plain": [
       "[<matplotlib.lines.Line2D at 0x20cc538ec20>]"
      ]
     },
     "execution_count": 42,
     "metadata": {},
     "output_type": "execute_result"
    },
    {
     "data": {
      "image/png": "[encoded data removed]",
      "text/plain": [
       "<Figure size 432x288 with 1 Axes>"
      ]
     },
     "metadata": {
      "needs_background": "light"
     },
     "output_type": "display_data"
    }
   ],
   "source": [
    "plt.plot(df3[1000:])"
   ]
  },
  {
   "cell_type": "code",
   "execution_count": 43,
   "metadata": {},
   "outputs": [
    {
     "data": {
      "text/plain": [
       "[<matplotlib.lines.Line2D at 0x20cc53fa0e0>]"
      ]
     },
     "execution_count": 43,
     "metadata": {},
     "output_type": "execute_result"
    },
    {
     "data": {
      "image/png": "[encoded data removed]",
      "text/plain": [
       "<Figure size 432x288 with 1 Axes>"
      ]
     },
     "metadata": {
      "needs_background": "light"
     },
     "output_type": "display_data"
    }
   ],
   "source": [
    "plt.plot(df3[1200:])"
   ]
  }
 ],
 "metadata": {
  "interpreter": {
   "hash": "6f9fde4ed40b8e8a27ec940bc0f1e0da7ff742ed7e6749346b33edfcf125dcf7"
  },
  "kernelspec": {
   "display_name": "Python 3.10.1 ('.venv': venv)",
   "language": "python",
   "name": "python3"
  },
  "language_info": {
   "codemirror_mode": {
    "name": "ipython",
    "version": 3
   },
   "file_extension": ".py",
   "mimetype": "text/x-python",
   "name": "python",
   "nbconvert_exporter": "python",
   "pygments_lexer": "ipython3",
   "version": "3.10.1"
  },
  "orig_nbformat": 4
 },
 "nbformat": 4,
 "nbformat_minor": 2
}
